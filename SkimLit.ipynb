{
  "nbformat": 4,
  "nbformat_minor": 0,
  "metadata": {
    "colab": {
      "name": "SkimLit.ipynb",
      "provenance": [],
      "include_colab_link": true
    },
    "kernelspec": {
      "name": "python3",
      "display_name": "Python 3"
    },
    "language_info": {
      "name": "python"
    }
  },
  "cells": [
    {
      "cell_type": "markdown",
      "metadata": {
        "id": "view-in-github",
        "colab_type": "text"
      },
      "source": [
        "<a href=\"https://colab.research.google.com/github/Vik-Gt-321/SkimLit/blob/main/SkimLit.ipynb\" target=\"_parent\"><img src=\"https://colab.research.google.com/assets/colab-badge.svg\" alt=\"Open In Colab\"/></a>"
      ]
    },
    {
      "cell_type": "code",
      "metadata": {
        "id": "lIqif6dxibqD"
      },
      "source": [
        "import pandas as pd\n",
        "import numpy as np\n",
        "import matplotlib.pyplot as plt\n",
        "import random\n",
        "import os\n",
        "import tensorflow as tf\n",
        "from tensorflow.keras import Sequential\n",
        "from tensorflow.keras.layers import Dense, Conv2D, Flatten, MaxPool1D"
      ],
      "execution_count": null,
      "outputs": []
    },
    {
      "cell_type": "code",
      "metadata": {
        "colab": {
          "base_uri": "https://localhost:8080/"
        },
        "id": "VoH0FPxXi6-j",
        "outputId": "c87c4953-9c1a-4364-f3fa-99fd48d069a9"
      },
      "source": [
        "!git clone https://github.com/Franck-Dernoncourt/pubmed-rct.git\n",
        "!ls pubmed-rct"
      ],
      "execution_count": null,
      "outputs": [
        {
          "output_type": "stream",
          "text": [
            "Cloning into 'pubmed-rct'...\n",
            "remote: Enumerating objects: 33, done.\u001b[K\n",
            "remote: Counting objects: 100% (3/3), done.\u001b[K\n",
            "remote: Compressing objects: 100% (3/3), done.\u001b[K\n",
            "remote: Total 33 (delta 0), reused 0 (delta 0), pack-reused 30\u001b[K\n",
            "Unpacking objects: 100% (33/33), done.\n",
            "PubMed_200k_RCT\n",
            "PubMed_200k_RCT_numbers_replaced_with_at_sign\n",
            "PubMed_20k_RCT\n",
            "PubMed_20k_RCT_numbers_replaced_with_at_sign\n",
            "README.md\n"
          ],
          "name": "stdout"
        }
      ]
    },
    {
      "cell_type": "code",
      "metadata": {
        "colab": {
          "base_uri": "https://localhost:8080/"
        },
        "id": "uoHTQ0hAq5wl",
        "outputId": "1c269dfc-ee31-4c95-82ca-f8fbf665f67f"
      },
      "source": [
        "!ls pubmed-rct/PubMed_20k_RCT_numbers_replaced_with_at_sign"
      ],
      "execution_count": null,
      "outputs": [
        {
          "output_type": "stream",
          "text": [
            "dev.txt  test.txt  train.txt\n"
          ],
          "name": "stdout"
        }
      ]
    },
    {
      "cell_type": "code",
      "metadata": {
        "id": "vW_w7LrOrkQy"
      },
      "source": [
        "data_dir = \"pubmed-rct/PubMed_20k_RCT_numbers_replaced_with_at_sign\""
      ],
      "execution_count": null,
      "outputs": []
    },
    {
      "cell_type": "code",
      "metadata": {
        "colab": {
          "base_uri": "https://localhost:8080/",
          "height": 35
        },
        "id": "xgvovqNKrq_h",
        "outputId": "c2b1fd72-d9e8-4e21-dda5-6a6e13d36bc9"
      },
      "source": [
        "filenames = [data_dir + \"/\"+ filename for filename in os.listdir(data_dir)]\n",
        "filenames[0]"
      ],
      "execution_count": null,
      "outputs": [
        {
          "output_type": "execute_result",
          "data": {
            "application/vnd.google.colaboratory.intrinsic+json": {
              "type": "string"
            },
            "text/plain": [
              "'pubmed-rct/PubMed_20k_RCT_numbers_replaced_with_at_sign/dev.txt'"
            ]
          },
          "metadata": {
            "tags": []
          },
          "execution_count": 5
        }
      ]
    },
    {
      "cell_type": "markdown",
      "metadata": {
        "id": "5OwgwBMLrutJ"
      },
      "source": [
        "## Preprocess Data"
      ]
    },
    {
      "cell_type": "code",
      "metadata": {
        "id": "q1Fcr-FTtIcr"
      },
      "source": [
        "def get_lines(filename):\n",
        "  with open(filename, \"r\") as f:\n",
        "    return f.readlines()"
      ],
      "execution_count": null,
      "outputs": []
    },
    {
      "cell_type": "code",
      "metadata": {
        "id": "bpMUuQUQtzmS"
      },
      "source": [
        "train_lines = get_lines(filenames[0])\n",
        "test_lines = get_lines(filenames[1])\n",
        "valid_lines = get_lines(filenames[2])"
      ],
      "execution_count": null,
      "outputs": []
    },
    {
      "cell_type": "code",
      "metadata": {
        "colab": {
          "base_uri": "https://localhost:8080/"
        },
        "id": "C5Dp9NnZt2Ar",
        "outputId": "fe63d772-8a7b-4580-d2fd-a36680d915b9"
      },
      "source": [
        "train_lines[:5]"
      ],
      "execution_count": null,
      "outputs": [
        {
          "output_type": "execute_result",
          "data": {
            "text/plain": [
              "['###24290286\\n',\n",
              " 'BACKGROUND\\tIgE sensitization to Aspergillus fumigatus and a positive sputum fungal culture result are common in patients with refractory asthma .\\n',\n",
              " 'BACKGROUND\\tIt is not clear whether these patients would benefit from antifungal treatment .\\n',\n",
              " 'OBJECTIVE\\tWe sought to determine whether a @-month course of voriconazole improved asthma-related outcomes in patients with asthma who are IgE sensitized to A fumigatus .\\n',\n",
              " 'METHODS\\tAsthmatic patients who were IgE sensitized to A fumigatus with a history of at least @ severe exacerbations in the previous @ months were treated for @ months with @ mg of voriconazole twice daily , followed by observation for @ months , in a double-blind , placebo-controlled , randomized design .\\n']"
            ]
          },
          "metadata": {
            "tags": []
          },
          "execution_count": 8
        }
      ]
    },
    {
      "cell_type": "code",
      "metadata": {
        "id": "W8H3CEF0uJlD"
      },
      "source": [
        "def preprocess_text(filename):\n",
        "  input_lines = get_lines(filename)\n",
        "  abstract_lines = \"\"\n",
        "  abstract_samples =[]\n",
        "\n",
        "  for line in input_lines:\n",
        "    if line.startswith(\"###\"):\n",
        "      abstract_id = line\n",
        "      abstract_lines = \"\"\n",
        "    elif line.isspace():\n",
        "      abstract_linesplit=  abstract_lines.splitlines()\n",
        "\n",
        "      for abstract_line_no, abstract_line in enumerate(abstract_linesplit):\n",
        "        line_data  ={}\n",
        "        target_text_split = abstract_line.split(\"\\t\")\n",
        "        line_data[\"Target\"] = target_text_split[0]\n",
        "        line_data[\"Text\"] = target_text_split[1].lower()\n",
        "        line_data[\"line_no\"] = abstract_line_no\n",
        "        line_data[\"total_lines\"] =len(abstract_linesplit)-1\n",
        "        abstract_samples.append(line_data)\n",
        "\n",
        "    else:\n",
        "      abstract_lines += line\n",
        "\n",
        "  return abstract_lines"
      ],
      "execution_count": null,
      "outputs": []
    },
    {
      "cell_type": "code",
      "metadata": {
        "id": "YmvR4e1T0Uoy"
      },
      "source": [
        "def preprocess_text_with_line_numbers(filename):\n",
        "  \"\"\"Returns a list of dictionaries of abstract line data.\n",
        "\n",
        "  Takes in filename, reads its contents and sorts through each line,\n",
        "  extracting things like the target label, the text of the sentence,\n",
        "  how many sentences are in the current abstract and what sentence number\n",
        "  the target line is.\n",
        "\n",
        "  Args:\n",
        "      filename: a string of the target text file to read and extract line data\n",
        "      from.\n",
        "\n",
        "  Returns:\n",
        "      A list of dictionaries each containing a line from an abstract,\n",
        "      the lines label, the lines position in the abstract and the total number\n",
        "      of lines in the abstract where the line is from. For example:\n",
        "\n",
        "      [{\"target\": 'CONCLUSION',\n",
        "        \"text\": The study couldn't have gone better, turns out people are kinder than you think\",\n",
        "        \"line_number\": 8,\n",
        "        \"total_lines\": 8}]\n",
        "  \"\"\"\n",
        "  input_lines = get_lines(filename) # get all lines from filename\n",
        "  abstract_lines = \"\" # create an empty abstract\n",
        "  abstract_samples = [] # create an empty list of abstracts\n",
        "  \n",
        "  # Loop through each line in target file\n",
        "  for line in input_lines:\n",
        "    if line.startswith(\"###\"): # check to see if line is an ID line\n",
        "      abstract_id = line\n",
        "      abstract_lines = \"\" # reset abstract string\n",
        "    elif line.isspace(): # check to see if line is a new line\n",
        "      abstract_line_split = abstract_lines.splitlines() # split abstract into separate lines\n",
        "\n",
        "      # Iterate through each line in abstract and count them at the same time\n",
        "      for abstract_line_number, abstract_line in enumerate(abstract_line_split):\n",
        "        line_data = {} # create empty dict to store data from line\n",
        "        target_text_split = abstract_line.split(\"\\t\") # split target label from text\n",
        "        line_data[\"target\"] = target_text_split[0] # get target label\n",
        "        line_data[\"text\"] = target_text_split[1].lower() # get target text and lower it\n",
        "        line_data[\"line_number\"] = abstract_line_number # what number line does the line appear in the abstract?\n",
        "        line_data[\"total_lines\"] = len(abstract_line_split) - 1 # how many total lines are in the abstract? (start from 0)\n",
        "        abstract_samples.append(line_data) # add line data to abstract samples list\n",
        "    \n",
        "    else: # if the above conditions aren't fulfilled, the line contains a labelled sentence\n",
        "      abstract_lines += line\n",
        "  \n",
        "  return abstract_samples"
      ],
      "execution_count": null,
      "outputs": []
    },
    {
      "cell_type": "code",
      "metadata": {
        "colab": {
          "base_uri": "https://localhost:8080/"
        },
        "id": "sFfCcpH40L4x",
        "outputId": "fa99dfca-2020-4957-f756-fc9009790571"
      },
      "source": [
        "%%time\n",
        "train_samples = preprocess_text_with_line_numbers(data_dir+ \"/\" + \"train.txt\")\n",
        "val_samples = preprocess_text_with_line_numbers(data_dir +\"/\" + \"dev.txt\") # dev is another name for validation set\n",
        "test_samples = preprocess_text_with_line_numbers(data_dir +\"/\" + \"test.txt\")\n",
        "len(train_samples), len(val_samples), len(test_samples)"
      ],
      "execution_count": null,
      "outputs": [
        {
          "output_type": "stream",
          "text": [
            "CPU times: user 493 ms, sys: 106 ms, total: 599 ms\n",
            "Wall time: 603 ms\n"
          ],
          "name": "stdout"
        }
      ]
    },
    {
      "cell_type": "code",
      "metadata": {
        "colab": {
          "base_uri": "https://localhost:8080/"
        },
        "id": "cvFSkPWD0mPf",
        "outputId": "63eaff4c-ad2e-4f74-fc77-b5780e228c34"
      },
      "source": [
        "train_samples[:3]"
      ],
      "execution_count": null,
      "outputs": [
        {
          "output_type": "execute_result",
          "data": {
            "text/plain": [
              "[{'line_number': 0,\n",
              "  'target': 'OBJECTIVE',\n",
              "  'text': 'to investigate the efficacy of @ weeks of daily low-dose oral prednisolone in improving pain , mobility , and systemic low-grade inflammation in the short term and whether the effect would be sustained at @ weeks in older adults with moderate to severe knee osteoarthritis ( oa ) .',\n",
              "  'total_lines': 11},\n",
              " {'line_number': 1,\n",
              "  'target': 'METHODS',\n",
              "  'text': 'a total of @ patients with primary knee oa were randomized @:@ ; @ received @ mg/day of prednisolone and @ received placebo for @ weeks .',\n",
              "  'total_lines': 11},\n",
              " {'line_number': 2,\n",
              "  'target': 'METHODS',\n",
              "  'text': 'outcome measures included pain reduction and improvement in function scores and systemic inflammation markers .',\n",
              "  'total_lines': 11}]"
            ]
          },
          "metadata": {
            "tags": []
          },
          "execution_count": 12
        }
      ]
    },
    {
      "cell_type": "code",
      "metadata": {
        "id": "H6DSTlMs1D_W"
      },
      "source": [
        "train_df = pd.DataFrame(train_samples)\n",
        "test_df =pd.DataFrame(test_samples)\n",
        "val_df = pd.DataFrame(val_samples)"
      ],
      "execution_count": null,
      "outputs": []
    },
    {
      "cell_type": "code",
      "metadata": {
        "colab": {
          "base_uri": "https://localhost:8080/",
          "height": 202
        },
        "id": "6Fbw34G12oqW",
        "outputId": "71728105-dd37-4bf7-9327-dceecd5bdd4b"
      },
      "source": [
        "train_df.head()"
      ],
      "execution_count": null,
      "outputs": [
        {
          "output_type": "execute_result",
          "data": {
            "text/html": [
              "<div>\n",
              "<style scoped>\n",
              "    .dataframe tbody tr th:only-of-type {\n",
              "        vertical-align: middle;\n",
              "    }\n",
              "\n",
              "    .dataframe tbody tr th {\n",
              "        vertical-align: top;\n",
              "    }\n",
              "\n",
              "    .dataframe thead th {\n",
              "        text-align: right;\n",
              "    }\n",
              "</style>\n",
              "<table border=\"1\" class=\"dataframe\">\n",
              "  <thead>\n",
              "    <tr style=\"text-align: right;\">\n",
              "      <th></th>\n",
              "      <th>target</th>\n",
              "      <th>text</th>\n",
              "      <th>line_number</th>\n",
              "      <th>total_lines</th>\n",
              "    </tr>\n",
              "  </thead>\n",
              "  <tbody>\n",
              "    <tr>\n",
              "      <th>0</th>\n",
              "      <td>OBJECTIVE</td>\n",
              "      <td>to investigate the efficacy of @ weeks of dail...</td>\n",
              "      <td>0</td>\n",
              "      <td>11</td>\n",
              "    </tr>\n",
              "    <tr>\n",
              "      <th>1</th>\n",
              "      <td>METHODS</td>\n",
              "      <td>a total of @ patients with primary knee oa wer...</td>\n",
              "      <td>1</td>\n",
              "      <td>11</td>\n",
              "    </tr>\n",
              "    <tr>\n",
              "      <th>2</th>\n",
              "      <td>METHODS</td>\n",
              "      <td>outcome measures included pain reduction and i...</td>\n",
              "      <td>2</td>\n",
              "      <td>11</td>\n",
              "    </tr>\n",
              "    <tr>\n",
              "      <th>3</th>\n",
              "      <td>METHODS</td>\n",
              "      <td>pain was assessed using the visual analog pain...</td>\n",
              "      <td>3</td>\n",
              "      <td>11</td>\n",
              "    </tr>\n",
              "    <tr>\n",
              "      <th>4</th>\n",
              "      <td>METHODS</td>\n",
              "      <td>secondary outcome measures included the wester...</td>\n",
              "      <td>4</td>\n",
              "      <td>11</td>\n",
              "    </tr>\n",
              "  </tbody>\n",
              "</table>\n",
              "</div>"
            ],
            "text/plain": [
              "      target  ... total_lines\n",
              "0  OBJECTIVE  ...          11\n",
              "1    METHODS  ...          11\n",
              "2    METHODS  ...          11\n",
              "3    METHODS  ...          11\n",
              "4    METHODS  ...          11\n",
              "\n",
              "[5 rows x 4 columns]"
            ]
          },
          "metadata": {
            "tags": []
          },
          "execution_count": 14
        }
      ]
    },
    {
      "cell_type": "code",
      "metadata": {
        "colab": {
          "base_uri": "https://localhost:8080/",
          "height": 284
        },
        "id": "Q3qYmJxs2p_i",
        "outputId": "41f472aa-af50-475f-a6b5-26852eac4234"
      },
      "source": [
        "train_df.total_lines.hist()"
      ],
      "execution_count": null,
      "outputs": [
        {
          "output_type": "execute_result",
          "data": {
            "text/plain": [
              "<matplotlib.axes._subplots.AxesSubplot at 0x7ff453e57190>"
            ]
          },
          "metadata": {
            "tags": []
          },
          "execution_count": 15
        },
        {
          "output_type": "display_data",
          "data": {
            "image/png": "[encoded data removed]",
            "text/plain": [
              "<Figure size 432x288 with 1 Axes>"
            ]
          },
          "metadata": {
            "tags": [],
            "needs_background": "light"
          }
        }
      ]
    },
    {
      "cell_type": "code",
      "metadata": {
        "id": "SGfzXNF83AeT"
      },
      "source": [
        "train_sent = train_df.text.to_list()\n",
        "test_sent = test_df.text.to_list()\n",
        "val_sent = val_df.text.to_list()"
      ],
      "execution_count": null,
      "outputs": []
    },
    {
      "cell_type": "code",
      "metadata": {
        "id": "EJ0hc4pq3oug"
      },
      "source": [
        "from sklearn.preprocessing import OneHotEncoder\n",
        "one_hot = OneHotEncoder(sparse = 0)\n",
        "train_labels_one_hot =one_hot.fit_transform(train_df.target.to_numpy().reshape((-1,1)))\n",
        "val_labels_one_hot = one_hot.fit_transform(val_df.target.to_numpy().reshape((-1,1)))\n",
        "test_labels_one_hot = one_hot.fit_transform(test_df.target.to_numpy().reshape((-1,1)))"
      ],
      "execution_count": null,
      "outputs": []
    },
    {
      "cell_type": "markdown",
      "metadata": {
        "id": "vqJwK39n5jRU"
      },
      "source": [
        "## Label Encode labels"
      ]
    },
    {
      "cell_type": "code",
      "metadata": {
        "id": "fIZQ2ebi6hF-"
      },
      "source": [
        "from sklearn.preprocessing import LabelEncoder"
      ],
      "execution_count": null,
      "outputs": []
    },
    {
      "cell_type": "code",
      "metadata": {
        "id": "qgaySevp6oKG"
      },
      "source": [
        "label_enc= LabelEncoder()\n",
        "train_labels_labelled = label_enc.fit_transform(train_df.target.to_numpy())\n",
        "test_labels_labelled = label_enc.fit_transform(test_df.target.to_numpy())\n",
        "val_labels_labelled = label_enc.fit_transform(val_df.target.to_numpy())"
      ],
      "execution_count": null,
      "outputs": []
    },
    {
      "cell_type": "code",
      "metadata": {
        "colab": {
          "base_uri": "https://localhost:8080/"
        },
        "id": "ewfrk0se7Ese",
        "outputId": "00685e9a-4ecf-405f-d343-826005ff5a8d"
      },
      "source": [
        "class_names = label_enc.classes_\n",
        "num_classes = len(class_names)\n",
        "class_names"
      ],
      "execution_count": null,
      "outputs": [
        {
          "output_type": "execute_result",
          "data": {
            "text/plain": [
              "array(['BACKGROUND', 'CONCLUSIONS', 'METHODS', 'OBJECTIVE', 'RESULTS'],\n",
              "      dtype=object)"
            ]
          },
          "metadata": {
            "tags": []
          },
          "execution_count": 20
        }
      ]
    },
    {
      "cell_type": "code",
      "metadata": {
        "colab": {
          "base_uri": "https://localhost:8080/"
        },
        "id": "wnaImaxv7rMf",
        "outputId": "0b736ba4-9fb3-4877-98d9-0d60c2000fee"
      },
      "source": [
        "train_labels_labelled"
      ],
      "execution_count": null,
      "outputs": [
        {
          "output_type": "execute_result",
          "data": {
            "text/plain": [
              "array([3, 2, 2, ..., 4, 1, 1])"
            ]
          },
          "metadata": {
            "tags": []
          },
          "execution_count": 21
        }
      ]
    },
    {
      "cell_type": "markdown",
      "metadata": {
        "id": "P_Cb7QvE7t3z"
      },
      "source": [
        "## Baseline Model"
      ]
    },
    {
      "cell_type": "code",
      "metadata": {
        "colab": {
          "base_uri": "https://localhost:8080/"
        },
        "id": "zklreR7f8UTf",
        "outputId": "936aa993-152c-446a-e911-ded6a17e6061"
      },
      "source": [
        "from sklearn.feature_extraction.text import TfidfVectorizer\n",
        "from sklearn.naive_bayes import MultinomialNB\n",
        "from sklearn.pipeline import Pipeline\n",
        "\n",
        "model_0 = Pipeline([(\"tfidf\",TfidfVectorizer()),\n",
        "                    (\"Nb\", MultinomialNB())\n",
        "                    ])\n",
        "model_0.fit(train_sent, train_labels_labelled)"
      ],
      "execution_count": null,
      "outputs": [
        {
          "output_type": "execute_result",
          "data": {
            "text/plain": [
              "Pipeline(memory=None,\n",
              "         steps=[('tfidf',\n",
              "                 TfidfVectorizer(analyzer='word', binary=False,\n",
              "                                 decode_error='strict',\n",
              "                                 dtype=<class 'numpy.float64'>,\n",
              "                                 encoding='utf-8', input='content',\n",
              "                                 lowercase=True, max_df=1.0, max_features=None,\n",
              "                                 min_df=1, ngram_range=(1, 1), norm='l2',\n",
              "                                 preprocessor=None, smooth_idf=True,\n",
              "                                 stop_words=None, strip_accents=None,\n",
              "                                 sublinear_tf=False,\n",
              "                                 token_pattern='(?u)\\\\b\\\\w\\\\w+\\\\b',\n",
              "                                 tokenizer=None, use_idf=True,\n",
              "                                 vocabulary=None)),\n",
              "                ('Nb',\n",
              "                 MultinomialNB(alpha=1.0, class_prior=None, fit_prior=True))],\n",
              "         verbose=False)"
            ]
          },
          "metadata": {
            "tags": []
          },
          "execution_count": 22
        }
      ]
    },
    {
      "cell_type": "code",
      "metadata": {
        "colab": {
          "base_uri": "https://localhost:8080/"
        },
        "id": "EPz7aVpI84FN",
        "outputId": "60861de4-dcdf-424a-c5f0-014c7b4c586a"
      },
      "source": [
        "model_0.score(val_sent, val_labels_labelled)"
      ],
      "execution_count": null,
      "outputs": [
        {
          "output_type": "execute_result",
          "data": {
            "text/plain": [
              "0.7218323844829869"
            ]
          },
          "metadata": {
            "tags": []
          },
          "execution_count": 23
        }
      ]
    },
    {
      "cell_type": "code",
      "metadata": {
        "id": "-kh95GWF9N8S"
      },
      "source": [
        "baseline_preds = model_0.predict(val_sent)"
      ],
      "execution_count": null,
      "outputs": []
    },
    {
      "cell_type": "code",
      "metadata": {
        "colab": {
          "base_uri": "https://localhost:8080/"
        },
        "id": "lleTi3H69w6P",
        "outputId": "dbd782de-2a88-477a-d3a5-881f6708d46f"
      },
      "source": [
        "!wget https://raw.githubusercontent.com/mrdbourke/tensorflow-deep-learning/main/extras/helper_functions.py"
      ],
      "execution_count": null,
      "outputs": [
        {
          "output_type": "stream",
          "text": [
            "--2021-08-08 14:19:57--  https://raw.githubusercontent.com/mrdbourke/tensorflow-deep-learning/main/extras/helper_functions.py\n",
            "Resolving raw.githubusercontent.com (raw.githubusercontent.com)... 185.199.108.133, 185.199.109.133, 185.199.110.133, ...\n",
            "Connecting to raw.githubusercontent.com (raw.githubusercontent.com)|185.199.108.133|:443... connected.\n",
            "HTTP request sent, awaiting response... 200 OK\n",
            "Length: 10246 (10K) [text/plain]\n",
            "Saving to: ‘helper_functions.py’\n",
            "\n",
            "helper_functions.py 100%[===================>]  10.01K  --.-KB/s    in 0s      \n",
            "\n",
            "2021-08-08 14:19:58 (76.3 MB/s) - ‘helper_functions.py’ saved [10246/10246]\n",
            "\n"
          ],
          "name": "stdout"
        }
      ]
    },
    {
      "cell_type": "code",
      "metadata": {
        "id": "v9fZ8TSQ9z9S"
      },
      "source": [
        "from helper_functions import calculate_results"
      ],
      "execution_count": null,
      "outputs": []
    },
    {
      "cell_type": "code",
      "metadata": {
        "colab": {
          "base_uri": "https://localhost:8080/"
        },
        "id": "_2lHv9Mu94iT",
        "outputId": "90417797-6dd6-404a-e173-50edb4e5d6dc"
      },
      "source": [
        "baseline_results = calculate_results(val_labels_labelled, baseline_preds)\n",
        "baseline_results"
      ],
      "execution_count": null,
      "outputs": [
        {
          "output_type": "execute_result",
          "data": {
            "text/plain": [
              "{'accuracy': 72.1832384482987,\n",
              " 'f1': 0.6989250353450294,\n",
              " 'precision': 0.7186466952323352,\n",
              " 'recall': 0.7218323844829869}"
            ]
          },
          "metadata": {
            "tags": []
          },
          "execution_count": 27
        }
      ]
    },
    {
      "cell_type": "code",
      "metadata": {
        "id": "2MnTyrIz97vs"
      },
      "source": [
        "sent_lens = [len(sentence.split()) for sentence in train_sent]\n",
        "avg_sent_len = np.mean(sent_lens)"
      ],
      "execution_count": null,
      "outputs": []
    },
    {
      "cell_type": "code",
      "metadata": {
        "colab": {
          "base_uri": "https://localhost:8080/"
        },
        "id": "Fx1fCyPnvPpT",
        "outputId": "08f266cc-329e-410e-dcd2-ece5e180aa4e"
      },
      "source": [
        "x =\"Hello viks\"\n",
        "x.split()"
      ],
      "execution_count": null,
      "outputs": [
        {
          "output_type": "execute_result",
          "data": {
            "text/plain": [
              "['Hello', 'viks']"
            ]
          },
          "metadata": {
            "tags": []
          },
          "execution_count": 29
        }
      ]
    },
    {
      "cell_type": "code",
      "metadata": {
        "id": "6lPL_LxdvWFv",
        "colab": {
          "base_uri": "https://localhost:8080/"
        },
        "outputId": "a93507d4-b173-42c2-c599-02aa58856403"
      },
      "source": [
        "len(x.split())"
      ],
      "execution_count": null,
      "outputs": [
        {
          "output_type": "execute_result",
          "data": {
            "text/plain": [
              "2"
            ]
          },
          "metadata": {
            "tags": []
          },
          "execution_count": 30
        }
      ]
    },
    {
      "cell_type": "code",
      "metadata": {
        "colab": {
          "base_uri": "https://localhost:8080/"
        },
        "id": "iTVa61QJ_ABl",
        "outputId": "1247e362-3ac0-4cbc-a881-416607261559"
      },
      "source": [
        "avg_sent_len"
      ],
      "execution_count": null,
      "outputs": [
        {
          "output_type": "execute_result",
          "data": {
            "text/plain": [
              "26.338269273494777"
            ]
          },
          "metadata": {
            "tags": []
          },
          "execution_count": 31
        }
      ]
    },
    {
      "cell_type": "code",
      "metadata": {
        "colab": {
          "base_uri": "https://localhost:8080/"
        },
        "id": "fNA0XYag_QvA",
        "outputId": "41742cea-e292-4da2-fa04-9c3df8fc0747"
      },
      "source": [
        "int(np.percentile(sent_lens, 95))"
      ],
      "execution_count": null,
      "outputs": [
        {
          "output_type": "execute_result",
          "data": {
            "text/plain": [
              "55"
            ]
          },
          "metadata": {
            "tags": []
          },
          "execution_count": 32
        }
      ]
    },
    {
      "cell_type": "code",
      "metadata": {
        "colab": {
          "base_uri": "https://localhost:8080/"
        },
        "id": "2V-OSkinAS2n",
        "outputId": "d85aa1cb-748f-4373-edc7-36958af1623b"
      },
      "source": [
        "int(np.percentile(sent_lens, 100))"
      ],
      "execution_count": null,
      "outputs": [
        {
          "output_type": "execute_result",
          "data": {
            "text/plain": [
              "296"
            ]
          },
          "metadata": {
            "tags": []
          },
          "execution_count": 33
        }
      ]
    },
    {
      "cell_type": "code",
      "metadata": {
        "id": "eHu2ktinAX8s"
      },
      "source": [
        "max(sent_lens)\n",
        "max_tokens = 68000"
      ],
      "execution_count": null,
      "outputs": []
    },
    {
      "cell_type": "markdown",
      "metadata": {
        "id": "1oyaNaKGAajp"
      },
      "source": [
        "## Text Vect and Embed"
      ]
    },
    {
      "cell_type": "code",
      "metadata": {
        "id": "t333RjsKA27M"
      },
      "source": [
        "text_vect = tf.keras.layers.experimental.preprocessing.TextVectorization(\n",
        "    max_tokens = max_tokens,output_sequence_length = 55, \n",
        ")"
      ],
      "execution_count": null,
      "outputs": []
    },
    {
      "cell_type": "code",
      "metadata": {
        "id": "EmnbEjkxB3EI"
      },
      "source": [
        "text_vect.adapt(train_sent)"
      ],
      "execution_count": null,
      "outputs": []
    },
    {
      "cell_type": "code",
      "metadata": {
        "colab": {
          "base_uri": "https://localhost:8080/"
        },
        "id": "rjGF3I96CCL5",
        "outputId": "8f398a0c-31cd-4382-b172-e617e358fef1"
      },
      "source": [
        "text_sent = random.choice(train_sent)\n",
        "print(f\"Text:\\n{text_sent}\")\n",
        "print(len(text_sent))\n",
        "print(text_vect([text_sent]))"
      ],
      "execution_count": null,
      "outputs": [
        {
          "output_type": "stream",
          "text": [
            "Text:\n",
            "this study is the first long-term follow-up of a randomized controlled trial with supplementation of dha and aa to human milk fed vlbw infants investigating both cognitive functions and brain macrostructure measured by mri .\n",
            "224\n",
            "tf.Tensor(\n",
            "[[   23    17    20     2   152   335    94     4     8    29   106    32\n",
            "      7   464     4  2480     3  2065     6   631  1296  2444  5692   337\n",
            "   2576    54   301  1907     3   623 53172   156    22   975     0     0\n",
            "      0     0     0     0     0     0     0     0     0     0     0     0\n",
            "      0     0     0     0     0     0     0]], shape=(1, 55), dtype=int64)\n"
          ],
          "name": "stdout"
        }
      ]
    },
    {
      "cell_type": "code",
      "metadata": {
        "colab": {
          "base_uri": "https://localhost:8080/"
        },
        "id": "lmijQ3zICqWs",
        "outputId": "ccf4b20f-5b32-4a44-8bd2-b7800355334c"
      },
      "source": [
        "rcb_20k = text_vect.get_vocabulary()\n",
        "rcb_20k[:5],rcb_20k[-5:]\n"
      ],
      "execution_count": null,
      "outputs": [
        {
          "output_type": "execute_result",
          "data": {
            "text/plain": [
              "(['', '[UNK]', 'the', 'and', 'of'],\n",
              " ['aainduced', 'aaigroup', 'aachener', 'aachen', 'aaacp'])"
            ]
          },
          "metadata": {
            "tags": []
          },
          "execution_count": 38
        }
      ]
    },
    {
      "cell_type": "code",
      "metadata": {
        "colab": {
          "base_uri": "https://localhost:8080/"
        },
        "id": "iHJZdjMkDNm7",
        "outputId": "b0717bab-ee94-439c-fa8c-5453ce65be57"
      },
      "source": [
        "len(rcb_20k)"
      ],
      "execution_count": null,
      "outputs": [
        {
          "output_type": "execute_result",
          "data": {
            "text/plain": [
              "64841"
            ]
          },
          "metadata": {
            "tags": []
          },
          "execution_count": 39
        }
      ]
    },
    {
      "cell_type": "code",
      "metadata": {
        "colab": {
          "base_uri": "https://localhost:8080/"
        },
        "id": "7XG8KnVsDWgz",
        "outputId": "21d49e65-5899-42e2-d5be-849b221054b6"
      },
      "source": [
        "len(train_sent)"
      ],
      "execution_count": null,
      "outputs": [
        {
          "output_type": "execute_result",
          "data": {
            "text/plain": [
              "180040"
            ]
          },
          "metadata": {
            "tags": []
          },
          "execution_count": 40
        }
      ]
    },
    {
      "cell_type": "code",
      "metadata": {
        "id": "9g31gmboD0_8"
      },
      "source": [
        "token_embed = tf.keras.layers.Embedding(len(rcb_20k),\n",
        "                                        output_dim = 128,\n",
        "                                        mask_zero = True,\n",
        "                                        name = 'TokenEmbedding')"
      ],
      "execution_count": null,
      "outputs": []
    },
    {
      "cell_type": "markdown",
      "metadata": {
        "id": "DuA0p1MHQVRF"
      },
      "source": [
        "## Datasets creation"
      ]
    },
    {
      "cell_type": "code",
      "metadata": {
        "id": "d2T7rUc-TUDo"
      },
      "source": [
        "train_dataset = tf.data.Dataset.from_tensor_slices((train_sent, train_labels_one_hot))\n",
        "test_dataset = tf.data.Dataset.from_tensor_slices((test_sent, test_labels_one_hot))\n",
        "val_dataset = tf.data.Dataset.from_tensor_slices((val_sent, val_labels_one_hot))"
      ],
      "execution_count": null,
      "outputs": []
    },
    {
      "cell_type": "code",
      "metadata": {
        "id": "UjuAgQj_T34r"
      },
      "source": [
        "train_dataset = train_dataset.batch(32).prefetch(tf.data.AUTOTUNE)\n",
        "val_dataset = val_dataset.batch(32).prefetch(tf.data.AUTOTUNE)\n",
        "test_dataset = test_dataset.batch(32).prefetch(tf.data.AUTOTUNE)"
      ],
      "execution_count": null,
      "outputs": []
    },
    {
      "cell_type": "markdown",
      "metadata": {
        "id": "ehixUNDuVcbk"
      },
      "source": [
        "## Conv1D"
      ]
    },
    {
      "cell_type": "code",
      "metadata": {
        "id": "kzEkKVgdVjmU"
      },
      "source": [
        "from tensorflow.keras import layers"
      ],
      "execution_count": null,
      "outputs": []
    },
    {
      "cell_type": "code",
      "metadata": {
        "colab": {
          "base_uri": "https://localhost:8080/"
        },
        "id": "KUCttGdaczeH",
        "outputId": "2d097373-b34d-4abe-895a-74dcbb87b158"
      },
      "source": [
        "len(train_dataset), len(val_dataset)"
      ],
      "execution_count": null,
      "outputs": [
        {
          "output_type": "execute_result",
          "data": {
            "text/plain": [
              "(5627, 945)"
            ]
          },
          "metadata": {
            "tags": []
          },
          "execution_count": 45
        }
      ]
    },
    {
      "cell_type": "code",
      "metadata": {
        "colab": {
          "base_uri": "https://localhost:8080/"
        },
        "id": "8mRZKRyOVp_f",
        "outputId": "f0b98f99-08dd-4ff6-83c6-6e74cb171faf"
      },
      "source": [
        "input = layers.Input(shape = (1,), dtype = tf.string)\n",
        "x =text_vect(input)\n",
        "x = token_embed(x)\n",
        "x = layers.Conv1D(64, 5, padding =\"same\", activation= \"relu\")(x)\n",
        "x = layers.GlobalAveragePooling1D()(x)\n",
        "output = layers.Dense(len(class_names), activation=\"softmax\")(x)\n",
        "model_1 = tf.keras.Model(input, output, name = \"Cnv1D\")\n",
        "model_1.summary()"
      ],
      "execution_count": null,
      "outputs": [
        {
          "output_type": "stream",
          "text": [
            "Model: \"Cnv1D\"\n",
            "_________________________________________________________________\n",
            "Layer (type)                 Output Shape              Param #   \n",
            "=================================================================\n",
            "input_1 (InputLayer)         [(None, 1)]               0         \n",
            "_________________________________________________________________\n",
            "text_vectorization (TextVect (None, 55)                0         \n",
            "_________________________________________________________________\n",
            "TokenEmbedding (Embedding)   (None, 55, 128)           8299648   \n",
            "_________________________________________________________________\n",
            "conv1d (Conv1D)              (None, 55, 64)            41024     \n",
            "_________________________________________________________________\n",
            "global_average_pooling1d (Gl (None, 64)                0         \n",
            "_________________________________________________________________\n",
            "dense (Dense)                (None, 5)                 325       \n",
            "=================================================================\n",
            "Total params: 8,340,997\n",
            "Trainable params: 8,340,997\n",
            "Non-trainable params: 0\n",
            "_________________________________________________________________\n"
          ],
          "name": "stdout"
        }
      ]
    },
    {
      "cell_type": "code",
      "metadata": {
        "id": "S_H8-7UWWf0o"
      },
      "source": [
        "model_1.compile(loss=\"categorical_crossentropy\", # if your labels are integer form (not one hot) use sparse_categorical_crossentropy\n",
        "                optimizer=tf.keras.optimizers.Adam(),\n",
        "                metrics=[\"accuracy\"])"
      ],
      "execution_count": null,
      "outputs": []
    },
    {
      "cell_type": "code",
      "metadata": {
        "colab": {
          "base_uri": "https://localhost:8080/"
        },
        "id": "b3qWGaNNW3yW",
        "outputId": "ae6421d1-6295-4941-fe86-90b14aaf4ac1"
      },
      "source": [
        "model_1_history = model_1.fit(train_dataset, validation_data=val_dataset,epochs =3,\n",
        "                              steps_per_epoch = int(0.1*(len(train_dataset))        ),\n",
        "                              validation_steps = int(0.1*(len(val_dataset))) )"
      ],
      "execution_count": null,
      "outputs": [
        {
          "output_type": "stream",
          "text": [
            "Epoch 1/3\n",
            "562/562 [==============================] - 86s 102ms/step - loss: 0.9147 - accuracy: 0.6441 - val_loss: 0.6913 - val_accuracy: 0.7387\n",
            "Epoch 2/3\n",
            "562/562 [==============================] - 57s 102ms/step - loss: 0.6633 - accuracy: 0.7532 - val_loss: 0.6383 - val_accuracy: 0.7689\n",
            "Epoch 3/3\n",
            "562/562 [==============================] - 57s 101ms/step - loss: 0.6223 - accuracy: 0.7695 - val_loss: 0.6016 - val_accuracy: 0.7842\n"
          ],
          "name": "stdout"
        }
      ]
    },
    {
      "cell_type": "code",
      "metadata": {
        "id": "V75U_E9ZXkfX"
      },
      "source": [
        "model_1_pred_probs = model_1.predict(val_dataset)"
      ],
      "execution_count": null,
      "outputs": []
    },
    {
      "cell_type": "code",
      "metadata": {
        "colab": {
          "base_uri": "https://localhost:8080/"
        },
        "id": "vdKvWBeOXspi",
        "outputId": "3533d0be-56d7-4c81-c694-1c5ebe643c54"
      },
      "source": [
        "model_1_pred_probs.shape"
      ],
      "execution_count": null,
      "outputs": [
        {
          "output_type": "execute_result",
          "data": {
            "text/plain": [
              "(30212, 5)"
            ]
          },
          "metadata": {
            "tags": []
          },
          "execution_count": 50
        }
      ]
    },
    {
      "cell_type": "code",
      "metadata": {
        "id": "RywC9qCbXvT_"
      },
      "source": [
        "model_1_preds =model_1_pred_probs.argmax(axis =1)"
      ],
      "execution_count": null,
      "outputs": []
    },
    {
      "cell_type": "code",
      "metadata": {
        "colab": {
          "base_uri": "https://localhost:8080/"
        },
        "id": "AY8kZ3VDboh3",
        "outputId": "14f96143-6675-4624-b5a4-438ee4e20978"
      },
      "source": [
        "model_1_preds"
      ],
      "execution_count": null,
      "outputs": [
        {
          "output_type": "execute_result",
          "data": {
            "text/plain": [
              "array([0, 0, 3, ..., 4, 1, 1])"
            ]
          },
          "metadata": {
            "tags": []
          },
          "execution_count": 52
        }
      ]
    },
    {
      "cell_type": "code",
      "metadata": {
        "id": "WsJ9AeOhbp_8"
      },
      "source": [
        "model_1_results = calculate_results(val_labels_labelled, model_1_preds)"
      ],
      "execution_count": null,
      "outputs": []
    },
    {
      "cell_type": "code",
      "metadata": {
        "colab": {
          "base_uri": "https://localhost:8080/"
        },
        "id": "5LpmtLSKbywR",
        "outputId": "311870b1-94c5-40cd-e20e-6cb03d5e8cbf"
      },
      "source": [
        "model_1_results"
      ],
      "execution_count": null,
      "outputs": [
        {
          "output_type": "execute_result",
          "data": {
            "text/plain": [
              "{'accuracy': 78.53170925460083,\n",
              " 'f1': 0.7827318298454311,\n",
              " 'precision': 0.7822206462798679,\n",
              " 'recall': 0.7853170925460082}"
            ]
          },
          "metadata": {
            "tags": []
          },
          "execution_count": 54
        }
      ]
    },
    {
      "cell_type": "markdown",
      "metadata": {
        "id": "A4ZgWI16b05t"
      },
      "source": [
        "## USE"
      ]
    },
    {
      "cell_type": "code",
      "metadata": {
        "id": "Xfb2WvY4euM3"
      },
      "source": [
        "import tensorflow_hub as hub\n",
        "embed = hub.load(\"https://tfhub.dev/google/universal-sentence-encoder/4\")\n",
        "embeddings = embed([\"hello i am viks\"])"
      ],
      "execution_count": null,
      "outputs": []
    },
    {
      "cell_type": "code",
      "metadata": {
        "id": "kOLzFDUbfA7t"
      },
      "source": [
        "tf_embed_layer = hub.KerasLayer(\"https://tfhub.dev/google/universal-sentence-encoder/4\",\n",
        "                                trainable = 0)"
      ],
      "execution_count": null,
      "outputs": []
    },
    {
      "cell_type": "code",
      "metadata": {
        "colab": {
          "base_uri": "https://localhost:8080/"
        },
        "id": "afeFKJSwfJJy",
        "outputId": "af3e7471-52b1-4123-cb2a-9b3c6046683a"
      },
      "source": [
        "model_2 = Sequential([\n",
        "                      layers.Input(shape =[], dtype  =tf.string),\n",
        "                      tf_embed_layer,\n",
        "                      layers.Dense(128, activation=\"relu\"),\n",
        "                      layers.Dense(5, activation=\"softmax\")])\n",
        "model_2.compile(loss = tf.keras.losses.categorical_crossentropy,\n",
        "                metrics = [\"accuracy\"],\n",
        "                optimizer = tf.keras.optimizers.Adam())"
      ],
      "execution_count": null,
      "outputs": [
        {
          "output_type": "stream",
          "text": [
            "WARNING:tensorflow:Please add `keras.layers.InputLayer` instead of `keras.Input` to Sequential model. `keras.Input` is intended to be used by Functional model.\n"
          ],
          "name": "stdout"
        },
        {
          "output_type": "stream",
          "text": [
            "WARNING:tensorflow:Please add `keras.layers.InputLayer` instead of `keras.Input` to Sequential model. `keras.Input` is intended to be used by Functional model.\n"
          ],
          "name": "stderr"
        }
      ]
    },
    {
      "cell_type": "code",
      "metadata": {
        "colab": {
          "base_uri": "https://localhost:8080/"
        },
        "id": "P57uBYPygBuc",
        "outputId": "fcd9428a-e88a-4b5e-a3e7-42fe2a87f129"
      },
      "source": [
        "model_2.summary()"
      ],
      "execution_count": null,
      "outputs": [
        {
          "output_type": "stream",
          "text": [
            "Model: \"sequential\"\n",
            "_________________________________________________________________\n",
            "Layer (type)                 Output Shape              Param #   \n",
            "=================================================================\n",
            "keras_layer (KerasLayer)     (None, 512)               256797824 \n",
            "_________________________________________________________________\n",
            "dense_1 (Dense)              (None, 128)               65664     \n",
            "_________________________________________________________________\n",
            "dense_2 (Dense)              (None, 5)                 645       \n",
            "=================================================================\n",
            "Total params: 256,864,133\n",
            "Trainable params: 66,309\n",
            "Non-trainable params: 256,797,824\n",
            "_________________________________________________________________\n"
          ],
          "name": "stdout"
        }
      ]
    },
    {
      "cell_type": "code",
      "metadata": {
        "colab": {
          "base_uri": "https://localhost:8080/"
        },
        "id": "wRkmY7rDgEJ4",
        "outputId": "ffc64a5b-c786-4c32-cfb0-5abc660e15dc"
      },
      "source": [
        "model_2_history = model_2.fit(train_dataset,\n",
        "            steps_per_epoch=int(0.1 * len(train_dataset)),\n",
        "            epochs=3,\n",
        "            validation_data=val_dataset,\n",
        "            validation_steps=int(0.1 * len(val_dataset)))"
      ],
      "execution_count": null,
      "outputs": [
        {
          "output_type": "stream",
          "text": [
            "Epoch 1/3\n",
            "562/562 [==============================] - 13s 18ms/step - loss: 0.9186 - accuracy: 0.6506 - val_loss: 0.7963 - val_accuracy: 0.6882\n",
            "Epoch 2/3\n",
            "562/562 [==============================] - 10s 17ms/step - loss: 0.7689 - accuracy: 0.7012 - val_loss: 0.7557 - val_accuracy: 0.7021\n",
            "Epoch 3/3\n",
            "562/562 [==============================] - 9s 17ms/step - loss: 0.7538 - accuracy: 0.7120 - val_loss: 0.7411 - val_accuracy: 0.7124\n"
          ],
          "name": "stdout"
        }
      ]
    },
    {
      "cell_type": "code",
      "metadata": {
        "id": "BD9b3E_AhAP0"
      },
      "source": [
        "def change_probs2preds(model):\n",
        "  probs = model.predict(val_dataset)\n",
        "  preds = probs.argmax(axis =1)\n",
        "  results = calculate_results(val_labels_labelled, preds)\n",
        "  return results"
      ],
      "execution_count": null,
      "outputs": []
    },
    {
      "cell_type": "code",
      "metadata": {
        "id": "XPypHn7ehar4"
      },
      "source": [
        "model_2_results = change_probs2preds(model_2)"
      ],
      "execution_count": null,
      "outputs": []
    },
    {
      "cell_type": "code",
      "metadata": {
        "colab": {
          "base_uri": "https://localhost:8080/"
        },
        "id": "gWR0E1owheb7",
        "outputId": "b8001a77-7c09-4171-ae1d-fa78ab112304"
      },
      "source": [
        "model_2_results"
      ],
      "execution_count": null,
      "outputs": [
        {
          "output_type": "execute_result",
          "data": {
            "text/plain": [
              "{'accuracy': 71.44512114391632,\n",
              " 'f1': 0.7114517973533913,\n",
              " 'precision': 0.7148291611189592,\n",
              " 'recall': 0.7144512114391632}"
            ]
          },
          "metadata": {
            "tags": []
          },
          "execution_count": 62
        }
      ]
    },
    {
      "cell_type": "markdown",
      "metadata": {
        "id": "MvdOmZGAhhia"
      },
      "source": [
        "## Conv1D with character embeddings"
      ]
    },
    {
      "cell_type": "code",
      "metadata": {
        "id": "uudes812ik1q"
      },
      "source": [
        "def split_chars(text):\n",
        "  return \" \".join(list(text))"
      ],
      "execution_count": null,
      "outputs": []
    },
    {
      "cell_type": "code",
      "metadata": {
        "id": "53_C8-Dulsm7"
      },
      "source": [
        "train_chars = [split_chars(sent) for sent in train_sent ]\n",
        "test_chars = [split_chars(sent) for sent in test_sent]\n",
        "val_chars = [split_chars(sent) for sent in val_sent]"
      ],
      "execution_count": null,
      "outputs": []
    },
    {
      "cell_type": "code",
      "metadata": {
        "colab": {
          "base_uri": "https://localhost:8080/"
        },
        "id": "j8w52qtQmBdv",
        "outputId": "70118206-94d4-4584-e705-56391760011d"
      },
      "source": [
        "train_chars[:2]"
      ],
      "execution_count": null,
      "outputs": [
        {
          "output_type": "execute_result",
          "data": {
            "text/plain": [
              "['t o   i n v e s t i g a t e   t h e   e f f i c a c y   o f   @   w e e k s   o f   d a i l y   l o w - d o s e   o r a l   p r e d n i s o l o n e   i n   i m p r o v i n g   p a i n   ,   m o b i l i t y   ,   a n d   s y s t e m i c   l o w - g r a d e   i n f l a m m a t i o n   i n   t h e   s h o r t   t e r m   a n d   w h e t h e r   t h e   e f f e c t   w o u l d   b e   s u s t a i n e d   a t   @   w e e k s   i n   o l d e r   a d u l t s   w i t h   m o d e r a t e   t o   s e v e r e   k n e e   o s t e o a r t h r i t i s   (   o a   )   .',\n",
              " 'a   t o t a l   o f   @   p a t i e n t s   w i t h   p r i m a r y   k n e e   o a   w e r e   r a n d o m i z e d   @ : @   ;   @   r e c e i v e d   @   m g / d a y   o f   p r e d n i s o l o n e   a n d   @   r e c e i v e d   p l a c e b o   f o r   @   w e e k s   .']"
            ]
          },
          "metadata": {
            "tags": []
          },
          "execution_count": 65
        }
      ]
    },
    {
      "cell_type": "code",
      "metadata": {
        "colab": {
          "base_uri": "https://localhost:8080/"
        },
        "id": "5Pvxe-kbmJya",
        "outputId": "42401659-3ac4-4a40-abd9-8cceeea58924"
      },
      "source": [
        "char_lens=  [len(sent) for sent in train_sent ]\n",
        "avg_charlen = np.mean(char_lens)\n",
        "avg_charlen"
      ],
      "execution_count": null,
      "outputs": [
        {
          "output_type": "execute_result",
          "data": {
            "text/plain": [
              "149.3662574983337"
            ]
          },
          "metadata": {
            "tags": []
          },
          "execution_count": 66
        }
      ]
    },
    {
      "cell_type": "code",
      "metadata": {
        "colab": {
          "base_uri": "https://localhost:8080/",
          "height": 516
        },
        "id": "sYOQx7bboMyF",
        "outputId": "25ccd4b2-060a-4449-ecbf-b762e6b7a061"
      },
      "source": [
        "plt.hist(char_lens, bins = 30)"
      ],
      "execution_count": null,
      "outputs": [
        {
          "output_type": "execute_result",
          "data": {
            "text/plain": [
              "(array([7.8590e+03, 3.5206e+04, 4.9626e+04, 4.0112e+04, 2.4025e+04,\n",
              "        1.2206e+04, 5.8610e+03, 2.5790e+03, 1.2490e+03, 6.2200e+02,\n",
              "        3.1400e+02, 1.5300e+02, 8.8000e+01, 5.1000e+01, 2.8000e+01,\n",
              "        1.7000e+01, 1.7000e+01, 8.0000e+00, 5.0000e+00, 6.0000e+00,\n",
              "        2.0000e+00, 1.0000e+00, 0.0000e+00, 2.0000e+00, 1.0000e+00,\n",
              "        1.0000e+00, 0.0000e+00, 0.0000e+00, 0.0000e+00, 1.0000e+00]),\n",
              " array([1.00000000e+00, 4.71666667e+01, 9.33333333e+01, 1.39500000e+02,\n",
              "        1.85666667e+02, 2.31833333e+02, 2.78000000e+02, 3.24166667e+02,\n",
              "        3.70333333e+02, 4.16500000e+02, 4.62666667e+02, 5.08833333e+02,\n",
              "        5.55000000e+02, 6.01166667e+02, 6.47333333e+02, 6.93500000e+02,\n",
              "        7.39666667e+02, 7.85833333e+02, 8.32000000e+02, 8.78166667e+02,\n",
              "        9.24333333e+02, 9.70500000e+02, 1.01666667e+03, 1.06283333e+03,\n",
              "        1.10900000e+03, 1.15516667e+03, 1.20133333e+03, 1.24750000e+03,\n",
              "        1.29366667e+03, 1.33983333e+03, 1.38600000e+03]),\n",
              " <a list of 30 Patch objects>)"
            ]
          },
          "metadata": {
            "tags": []
          },
          "execution_count": 67
        },
        {
          "output_type": "display_data",
          "data": {
            "image/png": "[encoded data removed]",
            "text/plain": [
              "<Figure size 432x288 with 1 Axes>"
            ]
          },
          "metadata": {
            "tags": [],
            "needs_background": "light"
          }
        }
      ]
    },
    {
      "cell_type": "code",
      "metadata": {
        "id": "I8F7MOgJoPu4"
      },
      "source": [
        "output_seq_char_len = np.percentile(char_lens, 95)"
      ],
      "execution_count": null,
      "outputs": []
    },
    {
      "cell_type": "code",
      "metadata": {
        "id": "maPISTvvofGu"
      },
      "source": [
        "import string\n",
        "alphabet =string.ascii_lowercase + string.digits + string.punctuation"
      ],
      "execution_count": null,
      "outputs": []
    },
    {
      "cell_type": "code",
      "metadata": {
        "id": "FAP7uOoeqHYn"
      },
      "source": [
        "NUM_CHAR_TOKENS = len(alphabet) + 2"
      ],
      "execution_count": null,
      "outputs": []
    },
    {
      "cell_type": "code",
      "metadata": {
        "id": "16xavC1GqP48"
      },
      "source": [
        "char_vect = tf.keras.layers.experimental.preprocessing.TextVectorization(max_tokens = NUM_CHAR_TOKENS,\n",
        "                              output_sequence_length = int(output_seq_char_len))"
      ],
      "execution_count": null,
      "outputs": []
    },
    {
      "cell_type": "code",
      "metadata": {
        "id": "qyHhU5f_rDm3"
      },
      "source": [
        "char_vect.adapt(train_chars)\n",
        "char_vocab = char_vect.get_vocabulary()"
      ],
      "execution_count": null,
      "outputs": []
    },
    {
      "cell_type": "code",
      "metadata": {
        "id": "jeIc4oiNsP4r"
      },
      "source": [
        "char_embed = layers.Embedding(input_dim = len(char_vocab),\n",
        "                              output_dim = 25,\n",
        "                              mask_zero =1)"
      ],
      "execution_count": null,
      "outputs": []
    },
    {
      "cell_type": "code",
      "metadata": {
        "id": "klZgCrxXKzLZ"
      },
      "source": [
        "input = layers.Input(shape  =(1,), dtype =tf.string)\n",
        "x = char_vect(input)\n",
        "x = char_embed(x)\n",
        "x = layers.Conv1D(128, 5, activation=\"relu\", padding=\"same\")(x)\n",
        "x = layers.GlobalMaxPool1D()(x)\n",
        "output = layers.Dense(5, activation=\"softmax\")(x)\n",
        "model_3 = tf.keras.Model(input, output, name = \"ConvChar\")"
      ],
      "execution_count": null,
      "outputs": []
    },
    {
      "cell_type": "code",
      "metadata": {
        "colab": {
          "base_uri": "https://localhost:8080/"
        },
        "id": "IQuPUF-NLz7S",
        "outputId": "947675f7-da5c-4be2-8672-0e0b72e0c4f5"
      },
      "source": [
        "model_3.summary()"
      ],
      "execution_count": null,
      "outputs": [
        {
          "output_type": "stream",
          "text": [
            "Model: \"ConvChar\"\n",
            "_________________________________________________________________\n",
            "Layer (type)                 Output Shape              Param #   \n",
            "=================================================================\n",
            "input_3 (InputLayer)         [(None, 1)]               0         \n",
            "_________________________________________________________________\n",
            "text_vectorization_1 (TextVe (None, 290)               0         \n",
            "_________________________________________________________________\n",
            "embedding (Embedding)        (None, 290, 25)           700       \n",
            "_________________________________________________________________\n",
            "conv1d_1 (Conv1D)            (None, 290, 128)          16128     \n",
            "_________________________________________________________________\n",
            "global_max_pooling1d (Global (None, 128)               0         \n",
            "_________________________________________________________________\n",
            "dense_3 (Dense)              (None, 5)                 645       \n",
            "=================================================================\n",
            "Total params: 17,473\n",
            "Trainable params: 17,473\n",
            "Non-trainable params: 0\n",
            "_________________________________________________________________\n"
          ],
          "name": "stdout"
        }
      ]
    },
    {
      "cell_type": "code",
      "metadata": {
        "id": "l1YL2hGmL1vr"
      },
      "source": [
        "model_3.compile(loss=\"categorical_crossentropy\",\n",
        "                optimizer=tf.keras.optimizers.Adam(),\n",
        "                metrics=[\"accuracy\"])"
      ],
      "execution_count": null,
      "outputs": []
    },
    {
      "cell_type": "code",
      "metadata": {
        "id": "o1aDFA7RMMMj"
      },
      "source": [
        "train_dataset_char = tf.data.Dataset.from_tensor_slices((train_chars, train_labels_one_hot)).batch(32).prefetch(tf.data.AUTOTUNE)\n",
        "test_dataset_char  = tf.data.Dataset.from_tensor_slices((test_chars, test_labels_one_hot)).batch(32).prefetch(tf.data.AUTOTUNE)\n",
        "val_dataset_char = tf.data.Dataset.from_tensor_slices((val_chars, val_labels_one_hot)).batch(32).prefetch(tf.data.AUTOTUNE)"
      ],
      "execution_count": null,
      "outputs": []
    },
    {
      "cell_type": "code",
      "metadata": {
        "colab": {
          "base_uri": "https://localhost:8080/"
        },
        "id": "Xjtt_hxFNNIh",
        "outputId": "c343a774-b37a-49d2-ef45-b829bcc4ba2a"
      },
      "source": [
        "model_3.fit(train_dataset_char, validation_data=val_dataset_char, steps_per_epoch=int(0.1*len(train_dataset_char)),\n",
        "            validation_steps = int(0.1*len(val_dataset_char)),epochs =3)"
      ],
      "execution_count": null,
      "outputs": [
        {
          "output_type": "stream",
          "text": [
            "Epoch 1/3\n",
            "562/562 [==============================] - 7s 11ms/step - loss: 1.2086 - accuracy: 0.5105 - val_loss: 0.9783 - val_accuracy: 0.6177\n",
            "Epoch 2/3\n",
            "562/562 [==============================] - 6s 10ms/step - loss: 0.9458 - accuracy: 0.6280 - val_loss: 0.8694 - val_accuracy: 0.6632\n",
            "Epoch 3/3\n",
            "562/562 [==============================] - 6s 10ms/step - loss: 0.8675 - accuracy: 0.6644 - val_loss: 0.8175 - val_accuracy: 0.6809\n"
          ],
          "name": "stdout"
        },
        {
          "output_type": "execute_result",
          "data": {
            "text/plain": [
              "<tensorflow.python.keras.callbacks.History at 0x7ff4443d0c90>"
            ]
          },
          "metadata": {
            "tags": []
          },
          "execution_count": 78
        }
      ]
    },
    {
      "cell_type": "code",
      "metadata": {
        "colab": {
          "base_uri": "https://localhost:8080/"
        },
        "id": "l8UVVaNkN_Aq",
        "outputId": "ed1d054d-5cfb-4549-a608-a86b556c3029"
      },
      "source": [
        "model_3_pred_probs = model_3.predict(val_dataset_char)\n",
        "model_3_pred_probs"
      ],
      "execution_count": null,
      "outputs": [
        {
          "output_type": "execute_result",
          "data": {
            "text/plain": [
              "array([[0.17011708, 0.3901133 , 0.04617317, 0.3744311 , 0.01916528],\n",
              "       [0.12603398, 0.5092043 , 0.01014387, 0.3267727 , 0.02784513],\n",
              "       [0.07618814, 0.11170778, 0.07944273, 0.70922065, 0.02344061],\n",
              "       ...,\n",
              "       [0.01316942, 0.02858122, 0.29178095, 0.02343798, 0.64303046],\n",
              "       [0.03116063, 0.09199245, 0.34155366, 0.06478047, 0.4705128 ],\n",
              "       [0.43757716, 0.40496057, 0.08659998, 0.05831257, 0.01254973]],\n",
              "      dtype=float32)"
            ]
          },
          "metadata": {
            "tags": []
          },
          "execution_count": 79
        }
      ]
    },
    {
      "cell_type": "code",
      "metadata": {
        "colab": {
          "base_uri": "https://localhost:8080/"
        },
        "id": "mYhc0lNXO2rq",
        "outputId": "bb09bcba-cd7f-49ef-cbf4-2ad1e7fa8a11"
      },
      "source": [
        "model_3_preds = tf.argmax(model_3_pred_probs, axis=1)\n",
        "model_3_preds"
      ],
      "execution_count": null,
      "outputs": [
        {
          "output_type": "execute_result",
          "data": {
            "text/plain": [
              "<tf.Tensor: shape=(30212,), dtype=int64, numpy=array([1, 1, 3, ..., 4, 4, 0])>"
            ]
          },
          "metadata": {
            "tags": []
          },
          "execution_count": 80
        }
      ]
    },
    {
      "cell_type": "code",
      "metadata": {
        "colab": {
          "base_uri": "https://localhost:8080/"
        },
        "id": "6e2ZreuVPSo6",
        "outputId": "f9d563eb-d1ea-46e0-bf4c-97e8c92d9d58"
      },
      "source": [
        "model_3_results = calculate_results(val_labels_labelled,\n",
        "                                        y_pred=model_3_preds)\n",
        "model_3_results"
      ],
      "execution_count": null,
      "outputs": [
        {
          "output_type": "execute_result",
          "data": {
            "text/plain": [
              "{'accuracy': 67.60558718390044,\n",
              " 'f1': 0.6615480318364979,\n",
              " 'precision': 0.67930218965915,\n",
              " 'recall': 0.6760558718390044}"
            ]
          },
          "metadata": {
            "tags": []
          },
          "execution_count": 81
        }
      ]
    },
    {
      "cell_type": "markdown",
      "metadata": {
        "id": "ieLd5aA_PYq9"
      },
      "source": [
        "## MultiModal Model"
      ]
    },
    {
      "cell_type": "code",
      "metadata": {
        "id": "fi1hsxOiQdkA"
      },
      "source": [
        "input_token = layers.Input(shape = [], dtype = tf.string)\n",
        "token_embeddings = tf_embed_layer(input_token)\n",
        "token_output = layers.Dense(128, activation=\"relu\")(token_embeddings)\n",
        "token_model = tf.keras.Model(input_token, token_output)\n",
        "\n",
        "input_char = layers.Input(shape =(1,), dtype= tf.string)\n",
        "char_vectors =char_vect(input_char)\n",
        "char_embeddings=  char_embed(char_vectors)\n",
        "char_blistm  = layers.Bidirectional(layers.LSTM(24))(char_embeddings)\n",
        "char_model = tf.keras.Model(input_char, char_blistm)\n",
        "\n",
        "token_char_concat = layers.Concatenate()([char_model.output, token_model.output])\n",
        "\n",
        "combined_dropout = layers.Dropout(0.5)(token_char_concat)\n",
        "combined_dense  =layers.Dense(200, activation=\"relu\")(combined_dropout)\n",
        "\n",
        "final_dropout= layers.Dropout(0.5)(combined_dense)\n",
        "final_dense = layers.Dense(5, activation=\"softmax\")(final_dropout)\n",
        "\n",
        "model_4 = tf.keras.Model(inputs =[char_model.input, token_model.input],\n",
        "                         outputs = final_dense)"
      ],
      "execution_count": null,
      "outputs": []
    },
    {
      "cell_type": "code",
      "metadata": {
        "id": "WJYUV_7OXf2d",
        "colab": {
          "base_uri": "https://localhost:8080/"
        },
        "outputId": "e21f44d9-5b6a-4e3d-e358-fb6d118e8af4"
      },
      "source": [
        "model_4.summary()"
      ],
      "execution_count": null,
      "outputs": [
        {
          "output_type": "stream",
          "text": [
            "Model: \"model_2\"\n",
            "__________________________________________________________________________________________________\n",
            "Layer (type)                    Output Shape         Param #     Connected to                     \n",
            "==================================================================================================\n",
            "input_5 (InputLayer)            [(None, 1)]          0                                            \n",
            "__________________________________________________________________________________________________\n",
            "text_vectorization_1 (TextVecto (None, 290)          0           input_5[0][0]                    \n",
            "__________________________________________________________________________________________________\n",
            "input_4 (InputLayer)            [(None,)]            0                                            \n",
            "__________________________________________________________________________________________________\n",
            "embedding (Embedding)           (None, 290, 25)      700         text_vectorization_1[1][0]       \n",
            "__________________________________________________________________________________________________\n",
            "keras_layer (KerasLayer)        (None, 512)          256797824   input_4[0][0]                    \n",
            "__________________________________________________________________________________________________\n",
            "bidirectional (Bidirectional)   (None, 48)           9600        embedding[1][0]                  \n",
            "__________________________________________________________________________________________________\n",
            "dense_4 (Dense)                 (None, 128)          65664       keras_layer[1][0]                \n",
            "__________________________________________________________________________________________________\n",
            "concatenate (Concatenate)       (None, 176)          0           bidirectional[0][0]              \n",
            "                                                                 dense_4[0][0]                    \n",
            "__________________________________________________________________________________________________\n",
            "dropout (Dropout)               (None, 176)          0           concatenate[0][0]                \n",
            "__________________________________________________________________________________________________\n",
            "dense_5 (Dense)                 (None, 200)          35400       dropout[0][0]                    \n",
            "__________________________________________________________________________________________________\n",
            "dropout_1 (Dropout)             (None, 200)          0           dense_5[0][0]                    \n",
            "__________________________________________________________________________________________________\n",
            "dense_6 (Dense)                 (None, 5)            1005        dropout_1[0][0]                  \n",
            "==================================================================================================\n",
            "Total params: 256,910,193\n",
            "Trainable params: 112,369\n",
            "Non-trainable params: 256,797,824\n",
            "__________________________________________________________________________________________________\n"
          ],
          "name": "stdout"
        }
      ]
    },
    {
      "cell_type": "code",
      "metadata": {
        "id": "rEHZiyTyXnJj"
      },
      "source": [
        "from tensorflow.keras.utils import plot_model"
      ],
      "execution_count": null,
      "outputs": []
    },
    {
      "cell_type": "code",
      "metadata": {
        "id": "2AEh2_FvXrYm",
        "colab": {
          "base_uri": "https://localhost:8080/",
          "height": 856
        },
        "outputId": "b9fecb21-3ee2-47de-f750-88c63e2d269f"
      },
      "source": [
        "plot_model(model_4)"
      ],
      "execution_count": null,
      "outputs": [
        {
          "output_type": "execute_result",
          "data": {
            "image/png": "[encoded data removed]",
            "text/plain": [
              "<IPython.core.display.Image object>"
            ]
          },
          "metadata": {
            "tags": []
          },
          "execution_count": 85
        }
      ]
    },
    {
      "cell_type": "code",
      "metadata": {
        "id": "l7jd_Dr4Xucc"
      },
      "source": [
        "model_4.compile(loss=\"categorical_crossentropy\",\n",
        "                optimizer=tf.keras.optimizers.Adam(), # section 4.2 of https://arxiv.org/pdf/1612.05251.pdf mentions using SGD but we'll stick with Adam\n",
        "                metrics=[\"accuracy\"])"
      ],
      "execution_count": null,
      "outputs": []
    },
    {
      "cell_type": "code",
      "metadata": {
        "id": "NuS81rwRX4GT"
      },
      "source": [
        "train_char_token_data = tf.data.Dataset.from_tensor_slices((train_sent, train_chars))\n",
        "train_char_token_labesl = tf.data.Dataset.from_tensor_slices(train_labels_one_hot)\n",
        "train_char_token_dataset = tf.data.Dataset.zip((train_char_token_data, train_char_token_labesl))\n",
        "train_char_token_dataset = train_char_token_dataset.batch(32).prefetch(tf.data.AUTOTUNE)"
      ],
      "execution_count": null,
      "outputs": []
    },
    {
      "cell_type": "code",
      "metadata": {
        "id": "8YBdyAD_bieT"
      },
      "source": [
        "val_char_token_data = tf.data.Dataset.from_tensor_slices((val_sent, val_chars))\n",
        "val_char_token_labels = tf.data.Dataset.from_tensor_slices(val_labels_one_hot)\n",
        "val_char_token_dataset = tf.data.Dataset.zip((val_char_token_data, val_char_token_labels)).batch(32).prefetch(tf.data.AUTOTUNE)"
      ],
      "execution_count": null,
      "outputs": []
    },
    {
      "cell_type": "code",
      "metadata": {
        "colab": {
          "base_uri": "https://localhost:8080/"
        },
        "id": "MA5g7FVlcH4l",
        "outputId": "92008d53-087b-4a94-fb04-ba93ca1f45e9"
      },
      "source": [
        "model_4.fit(train_char_token_dataset, validation_data=val_char_token_dataset, epochs= 3,\n",
        "            validation_steps = int(0.1*(len(val_char_token_dataset))),\n",
        "            steps_per_epoch =int(0.1*(len(train_char_token_dataset))) )"
      ],
      "execution_count": null,
      "outputs": [
        {
          "output_type": "stream",
          "text": [
            "Epoch 1/3\n",
            "562/562 [==============================] - 51s 74ms/step - loss: 1.2895 - accuracy: 0.4478 - val_loss: 1.1519 - val_accuracy: 0.5236\n",
            "Epoch 2/3\n",
            "562/562 [==============================] - 38s 67ms/step - loss: 1.1774 - accuracy: 0.5053 - val_loss: 1.1051 - val_accuracy: 0.5369\n",
            "Epoch 3/3\n",
            "562/562 [==============================] - 35s 62ms/step - loss: 1.1394 - accuracy: 0.5258 - val_loss: 1.0693 - val_accuracy: 0.5615\n"
          ],
          "name": "stdout"
        },
        {
          "output_type": "execute_result",
          "data": {
            "text/plain": [
              "<tensorflow.python.keras.callbacks.History at 0x7ff3954a5d90>"
            ]
          },
          "metadata": {
            "tags": []
          },
          "execution_count": 89
        }
      ]
    },
    {
      "cell_type": "code",
      "metadata": {
        "id": "DHX7eSYdcZb0"
      },
      "source": [
        "model_4_probs = model_4.predict(val_char_token_dataset)"
      ],
      "execution_count": null,
      "outputs": []
    },
    {
      "cell_type": "code",
      "metadata": {
        "id": "gnH-JD3efm0T"
      },
      "source": [
        "model_4_preds = model_4_probs.argmax(axis = 1)"
      ],
      "execution_count": null,
      "outputs": []
    },
    {
      "cell_type": "code",
      "metadata": {
        "colab": {
          "base_uri": "https://localhost:8080/"
        },
        "id": "P07mbsQZf6Nv",
        "outputId": "5c5cde5e-8c6f-462d-c961-ecf3c752c993"
      },
      "source": [
        "model_4_preds"
      ],
      "execution_count": null,
      "outputs": [
        {
          "output_type": "execute_result",
          "data": {
            "text/plain": [
              "array([1, 4, 2, ..., 1, 2, 0])"
            ]
          },
          "metadata": {
            "tags": []
          },
          "execution_count": 92
        }
      ]
    },
    {
      "cell_type": "code",
      "metadata": {
        "id": "H3Etlda7f7lR"
      },
      "source": [
        "model_4_results = calculate_results(val_labels_labelled, model_4_preds)"
      ],
      "execution_count": null,
      "outputs": []
    },
    {
      "cell_type": "code",
      "metadata": {
        "colab": {
          "base_uri": "https://localhost:8080/"
        },
        "id": "N30OdYHugBsg",
        "outputId": "6d65be20-ff2b-4dd5-d446-c9e3ee3451f1"
      },
      "source": [
        "model_4_results"
      ],
      "execution_count": null,
      "outputs": [
        {
          "output_type": "execute_result",
          "data": {
            "text/plain": [
              "{'accuracy': 55.7957103137826,\n",
              " 'f1': 0.5255192049765567,\n",
              " 'precision': 0.5904808814372406,\n",
              " 'recall': 0.557957103137826}"
            ]
          },
          "metadata": {
            "tags": []
          },
          "execution_count": 94
        }
      ]
    },
    {
      "cell_type": "markdown",
      "metadata": {
        "id": "UN_Yt-h9gDBz"
      },
      "source": [
        "## Transfer Learning with Token, character and positional embeddings"
      ]
    },
    {
      "cell_type": "markdown",
      "metadata": {
        "id": "hurKwQwLwDfx"
      },
      "source": [
        "### Create positional Embeddings"
      ]
    },
    {
      "cell_type": "code",
      "metadata": {
        "colab": {
          "base_uri": "https://localhost:8080/",
          "height": 202
        },
        "id": "fHLdzWeyxENm",
        "outputId": "e7b0cb22-a2f0-4039-ffd0-5674f9ad1751"
      },
      "source": [
        "train_df.head()"
      ],
      "execution_count": null,
      "outputs": [
        {
          "output_type": "execute_result",
          "data": {
            "text/html": [
              "<div>\n",
              "<style scoped>\n",
              "    .dataframe tbody tr th:only-of-type {\n",
              "        vertical-align: middle;\n",
              "    }\n",
              "\n",
              "    .dataframe tbody tr th {\n",
              "        vertical-align: top;\n",
              "    }\n",
              "\n",
              "    .dataframe thead th {\n",
              "        text-align: right;\n",
              "    }\n",
              "</style>\n",
              "<table border=\"1\" class=\"dataframe\">\n",
              "  <thead>\n",
              "    <tr style=\"text-align: right;\">\n",
              "      <th></th>\n",
              "      <th>target</th>\n",
              "      <th>text</th>\n",
              "      <th>line_number</th>\n",
              "      <th>total_lines</th>\n",
              "    </tr>\n",
              "  </thead>\n",
              "  <tbody>\n",
              "    <tr>\n",
              "      <th>0</th>\n",
              "      <td>OBJECTIVE</td>\n",
              "      <td>to investigate the efficacy of @ weeks of dail...</td>\n",
              "      <td>0</td>\n",
              "      <td>11</td>\n",
              "    </tr>\n",
              "    <tr>\n",
              "      <th>1</th>\n",
              "      <td>METHODS</td>\n",
              "      <td>a total of @ patients with primary knee oa wer...</td>\n",
              "      <td>1</td>\n",
              "      <td>11</td>\n",
              "    </tr>\n",
              "    <tr>\n",
              "      <th>2</th>\n",
              "      <td>METHODS</td>\n",
              "      <td>outcome measures included pain reduction and i...</td>\n",
              "      <td>2</td>\n",
              "      <td>11</td>\n",
              "    </tr>\n",
              "    <tr>\n",
              "      <th>3</th>\n",
              "      <td>METHODS</td>\n",
              "      <td>pain was assessed using the visual analog pain...</td>\n",
              "      <td>3</td>\n",
              "      <td>11</td>\n",
              "    </tr>\n",
              "    <tr>\n",
              "      <th>4</th>\n",
              "      <td>METHODS</td>\n",
              "      <td>secondary outcome measures included the wester...</td>\n",
              "      <td>4</td>\n",
              "      <td>11</td>\n",
              "    </tr>\n",
              "  </tbody>\n",
              "</table>\n",
              "</div>"
            ],
            "text/plain": [
              "      target  ... total_lines\n",
              "0  OBJECTIVE  ...          11\n",
              "1    METHODS  ...          11\n",
              "2    METHODS  ...          11\n",
              "3    METHODS  ...          11\n",
              "4    METHODS  ...          11\n",
              "\n",
              "[5 rows x 4 columns]"
            ]
          },
          "metadata": {
            "tags": []
          },
          "execution_count": 95
        }
      ]
    },
    {
      "cell_type": "code",
      "metadata": {
        "id": "vwVVlFa-xIBj"
      },
      "source": [
        "train_line_no_onehot = tf.one_hot(train_df.line_number.to_numpy(), depth = 15)\n",
        "val_line_no_onehot = tf.one_hot(val_df.line_number.to_numpy(), depth =15)\n",
        "test_line_no_onehot = tf.one_hot(test_df.line_number.to_numpy(), depth= 15)"
      ],
      "execution_count": null,
      "outputs": []
    },
    {
      "cell_type": "code",
      "metadata": {
        "colab": {
          "base_uri": "https://localhost:8080/"
        },
        "id": "4czQlFs3zF3B",
        "outputId": "9aad545c-9d9c-45dd-f86d-48230ef668f4"
      },
      "source": [
        "train_df.total_lines.value_counts()"
      ],
      "execution_count": null,
      "outputs": [
        {
          "output_type": "execute_result",
          "data": {
            "text/plain": [
              "11    24468\n",
              "10    23639\n",
              "12    22113\n",
              "9     19400\n",
              "13    18438\n",
              "14    14610\n",
              "8     12285\n",
              "15    10768\n",
              "7      7464\n",
              "16     7429\n",
              "17     5202\n",
              "6      3353\n",
              "18     3344\n",
              "19     2480\n",
              "20     1281\n",
              "5      1146\n",
              "21      770\n",
              "22      759\n",
              "23      264\n",
              "4       215\n",
              "24      200\n",
              "25      182\n",
              "26       81\n",
              "28       58\n",
              "3        32\n",
              "30       31\n",
              "27       28\n",
              "Name: total_lines, dtype: int64"
            ]
          },
          "metadata": {
            "tags": []
          },
          "execution_count": 97
        }
      ]
    },
    {
      "cell_type": "code",
      "metadata": {
        "colab": {
          "base_uri": "https://localhost:8080/",
          "height": 284
        },
        "id": "cHlO9q0dzmYB",
        "outputId": "42b08a85-ca80-410a-e6d6-3cd896ff1f41"
      },
      "source": [
        "train_df.total_lines.hist()"
      ],
      "execution_count": null,
      "outputs": [
        {
          "output_type": "execute_result",
          "data": {
            "text/plain": [
              "<matplotlib.axes._subplots.AxesSubplot at 0x7ff3881c0c90>"
            ]
          },
          "metadata": {
            "tags": []
          },
          "execution_count": 98
        },
        {
          "output_type": "display_data",
          "data": {
            "image/png": "[encoded data removed]",
            "text/plain": [
              "<Figure size 432x288 with 1 Axes>"
            ]
          },
          "metadata": {
            "tags": [],
            "needs_background": "light"
          }
        }
      ]
    },
    {
      "cell_type": "code",
      "metadata": {
        "id": "GUofo9cKzqzs"
      },
      "source": [
        "train_tline_onehot = tf.one_hot(train_df.total_lines.to_numpy(), depth=20)\n",
        "val_tline_onehot = tf.one_hot(val_df.total_lines.to_numpy(), depth=20)\n",
        "test_tline_onehot = tf.one_hot(test_df.total_lines.to_numpy(), depth = 20)"
      ],
      "execution_count": null,
      "outputs": []
    },
    {
      "cell_type": "code",
      "metadata": {
        "colab": {
          "base_uri": "https://localhost:8080/"
        },
        "id": "1-9pUOEK1bhe",
        "outputId": "8ab5a52b-28b3-4bf1-e55a-be2f4a1fdcbc"
      },
      "source": [
        "train_tline_onehot[:3]"
      ],
      "execution_count": null,
      "outputs": [
        {
          "output_type": "execute_result",
          "data": {
            "text/plain": [
              "<tf.Tensor: shape=(3, 20), dtype=float32, numpy=\n",
              "array([[0., 0., 0., 0., 0., 0., 0., 0., 0., 0., 0., 1., 0., 0., 0., 0.,\n",
              "        0., 0., 0., 0.],\n",
              "       [0., 0., 0., 0., 0., 0., 0., 0., 0., 0., 0., 1., 0., 0., 0., 0.,\n",
              "        0., 0., 0., 0.],\n",
              "       [0., 0., 0., 0., 0., 0., 0., 0., 0., 0., 0., 1., 0., 0., 0., 0.,\n",
              "        0., 0., 0., 0.]], dtype=float32)>"
            ]
          },
          "metadata": {
            "tags": []
          },
          "execution_count": 100
        }
      ]
    },
    {
      "cell_type": "code",
      "metadata": {
        "id": "9hsn76fc1eLC"
      },
      "source": [
        "token_input = layers.Input(shape = [], dtype = tf.string)\n",
        "token_embeddings = tf_embed_layer(token_input)\n",
        "token_outputs = layers.Dense(128, activation=\"relu\")(token_embeddings)\n",
        "token_model = tf.keras.Model(inputs = token_input, outputs = token_outputs)\n",
        "\n",
        "char_inputs = layers.Input(shape = (1,), dtype = tf.string)\n",
        "char_vectors = char_vect(char_inputs)\n",
        "char_embeddings  = char_embed(char_vectors)\n",
        "char_blistm = layers.Bidirectional(layers.LSTM(24))(char_embeddings)\n",
        "#char_outputs = layers.Dense(128, activation=\"relu\")(char_blistm)\n",
        "char_model = tf.keras.Model(char_inputs, char_blistm)\n",
        "\n",
        "line_no_inputs = layers.Input(shape = (15,), dtype=tf.float32)\n",
        "line_no_outputs = layers.Dense(32, activation=\"relu\")(line_no_inputs)\n",
        "line_no_model =  tf.keras.Model(line_no_inputs, line_no_outputs)\n",
        "\n",
        "tline_inputs  = layers.Input(shape = (20,), dtype = tf.float32)\n",
        "tline_no_outputs = layers.Dense(32, activation=\"relu\")(tline_inputs)\n",
        "tline_model = tf.keras.Model(tline_inputs, tline_no_outputs)\n",
        "\n",
        "all_out = layers.Concatenate()([token_model.output, char_model.output])\n",
        "z = layers.Dense(256, activation=\"relu\")(all_out)\n",
        "z = layers.Dropout(0.5)(z)\n",
        "tribrid_embeddings = layers.Concatenate()([z, line_no_model.output, tline_model.output])\n",
        "\n",
        "combined_output =  layers.Dense(5, activation=\"softmax\")(tribrid_embeddings)\n",
        "model_5 = tf.keras.Model(inputs = [line_no_model.input,\n",
        "                                   tline_model.input,\n",
        "                                   token_model.input,\n",
        "                                   char_model.input], outputs = combined_output)\n",
        "\n",
        "\n"
      ],
      "execution_count": null,
      "outputs": []
    },
    {
      "cell_type": "code",
      "metadata": {
        "colab": {
          "base_uri": "https://localhost:8080/",
          "height": 856
        },
        "id": "b-6sXTVY80nw",
        "outputId": "547de06f-abcf-4d7a-fb91-945911791f7e"
      },
      "source": [
        "plot_model(model_5)"
      ],
      "execution_count": null,
      "outputs": [
        {
          "output_type": "execute_result",
          "data": {
            "image/png": "[encoded data removed]",
            "text/plain": [
              "<IPython.core.display.Image object>"
            ]
          },
          "metadata": {
            "tags": []
          },
          "execution_count": 102
        }
      ]
    },
    {
      "cell_type": "code",
      "metadata": {
        "id": "aa3jvMIP9VgH"
      },
      "source": [
        "model_5.compile(loss=tf.keras.losses.CategoricalCrossentropy(label_smoothing=0.2), # add label smoothing (examples which are really confident get smoothed a little)\n",
        "                optimizer=tf.keras.optimizers.Adam(),\n",
        "                metrics=[\"accuracy\"])"
      ],
      "execution_count": null,
      "outputs": []
    },
    {
      "cell_type": "code",
      "metadata": {
        "id": "IHcI-x88E2o3"
      },
      "source": [
        "train_token_car_pos_data = tf.data.Dataset.from_tensor_slices((train_line_no_onehot, train_tline_onehot,\n",
        "                                                               train_sent, train_chars))\n",
        "train_token_char_pos_labels = tf.data.Dataset.from_tensor_slices(train_labels_one_hot)\n",
        "train_token_char_pos_dataset = tf.data.Dataset.zip((train_token_car_pos_data, train_token_char_pos_labels))\n",
        "train_token_char_pos_dataset = train_token_char_pos_dataset.batch(32).prefetch(tf.data.AUTOTUNE)\n",
        "\n",
        "val_token_car_pos_data = tf.data.Dataset.from_tensor_slices((val_line_no_onehot, val_tline_onehot,\n",
        "                                                               val_sent, val_chars))\n",
        "val_token_char_pos_labels = tf.data.Dataset.from_tensor_slices(val_labels_one_hot)\n",
        "val_token_char_pos_dataset = tf.data.Dataset.zip((val_token_car_pos_data, val_token_char_pos_labels))\n",
        "val_token_char_pos_dataset = val_token_char_pos_dataset.batch(32).prefetch(tf.data.AUTOTUNE)\n",
        "\n",
        "test_token_car_pos_data = tf.data.Dataset.from_tensor_slices((test_line_no_onehot, test_tline_onehot,\n",
        "                                                               test_sent, test_chars))\n",
        "test_token_char_pos_labels = tf.data.Dataset.from_tensor_slices(test_labels_one_hot)\n",
        "test_token_char_pos_dataset = tf.data.Dataset.zip((test_token_car_pos_data, test_token_char_pos_labels))\n",
        "test_token_char_pos_dataset = test_token_char_pos_dataset.batch(32).prefetch(tf.data.AUTOTUNE)"
      ],
      "execution_count": null,
      "outputs": []
    },
    {
      "cell_type": "code",
      "metadata": {
        "colab": {
          "base_uri": "https://localhost:8080/"
        },
        "id": "qbIIm-CuEx-w",
        "outputId": "6cb7e1f5-42a1-4c94-dbc7-aa0261bb533f"
      },
      "source": [
        "model_5_history = model_5.fit(train_token_char_pos_dataset, validation_data=val_token_char_pos_dataset,\n",
        "                              epochs =3, steps_per_epoch = int(0.1*(len(train_token_char_pos_dataset))),\n",
        "                              validation_steps = int(0.1*(len(val_token_char_pos_dataset))))"
      ],
      "execution_count": null,
      "outputs": [
        {
          "output_type": "stream",
          "text": [
            "Epoch 1/3\n",
            "562/562 [==============================] - 82s 129ms/step - loss: 1.1001 - accuracy: 0.7194 - val_loss: 0.9842 - val_accuracy: 0.8045\n",
            "Epoch 2/3\n",
            "562/562 [==============================] - 71s 127ms/step - loss: 0.9690 - accuracy: 0.8148 - val_loss: 0.9513 - val_accuracy: 0.8271\n",
            "Epoch 3/3\n",
            "562/562 [==============================] - 67s 119ms/step - loss: 0.9520 - accuracy: 0.8205 - val_loss: 0.9387 - val_accuracy: 0.8331\n"
          ],
          "name": "stdout"
        }
      ]
    },
    {
      "cell_type": "code",
      "metadata": {
        "colab": {
          "base_uri": "https://localhost:8080/"
        },
        "id": "F2YZxLZPGh9w",
        "outputId": "c0b1935a-fc02-46c4-f37f-aaaf158f09a2"
      },
      "source": [
        "model_5_pred_probs = model_5.predict(val_token_char_pos_dataset, verbose=1)\n",
        "model_5_pred_probs"
      ],
      "execution_count": null,
      "outputs": [
        {
          "output_type": "stream",
          "text": [
            "945/945 [==============================] - 50s 49ms/step\n"
          ],
          "name": "stdout"
        },
        {
          "output_type": "execute_result",
          "data": {
            "text/plain": [
              "array([[0.49586046, 0.11105602, 0.01056406, 0.36403582, 0.01848366],\n",
              "       [0.5474625 , 0.10244343, 0.05219147, 0.2871696 , 0.01073294],\n",
              "       [0.27923006, 0.11088356, 0.13961256, 0.40091825, 0.06935555],\n",
              "       ...,\n",
              "       [0.02969134, 0.10605203, 0.04461521, 0.02815508, 0.7914864 ],\n",
              "       [0.02868934, 0.3042286 , 0.07108591, 0.02699471, 0.56900144],\n",
              "       [0.23385596, 0.5459194 , 0.11545445, 0.04479321, 0.05997691]],\n",
              "      dtype=float32)"
            ]
          },
          "metadata": {
            "tags": []
          },
          "execution_count": 111
        }
      ]
    },
    {
      "cell_type": "code",
      "metadata": {
        "colab": {
          "base_uri": "https://localhost:8080/"
        },
        "id": "DwHOsMjHLric",
        "outputId": "e9b3480f-447e-4703-a35c-3653e3523774"
      },
      "source": [
        "model_5_preds = tf.argmax(model_5_pred_probs, axis=1)\n",
        "model_5_preds"
      ],
      "execution_count": null,
      "outputs": [
        {
          "output_type": "execute_result",
          "data": {
            "text/plain": [
              "<tf.Tensor: shape=(30212,), dtype=int64, numpy=array([0, 0, 3, ..., 4, 4, 1])>"
            ]
          },
          "metadata": {
            "tags": []
          },
          "execution_count": 112
        }
      ]
    },
    {
      "cell_type": "code",
      "metadata": {
        "colab": {
          "base_uri": "https://localhost:8080/"
        },
        "id": "3goYRiIWLsYc",
        "outputId": "9e6abbf0-7243-4c4d-b56e-26bb3485f76f"
      },
      "source": [
        "model_5_results = calculate_results(y_true=val_labels_labelled,\n",
        "                                    y_pred=model_5_preds)\n",
        "model_5_results"
      ],
      "execution_count": null,
      "outputs": [
        {
          "output_type": "execute_result",
          "data": {
            "text/plain": [
              "{'accuracy': 83.27154772937905,\n",
              " 'f1': 0.8317233571680405,\n",
              " 'precision': 0.8315004790154155,\n",
              " 'recall': 0.8327154772937906}"
            ]
          },
          "metadata": {
            "tags": []
          },
          "execution_count": 114
        }
      ]
    },
    {
      "cell_type": "code",
      "metadata": {
        "colab": {
          "base_uri": "https://localhost:8080/",
          "height": 233
        },
        "id": "1Dw9lwgVLuER",
        "outputId": "ddc73ff7-1129-4601-873c-71127103033d"
      },
      "source": [
        "\n",
        "# Combine model results into a DataFrame\n",
        "all_model_results = pd.DataFrame({\"baseline\": baseline_results,\n",
        "                                  \"custom_token_embed_conv1d\": model_1_results,\n",
        "                                  \"pretrained_token_embed\": model_2_results,\n",
        "                                  \"custom_char_embed_conv1d\": model_3_results,\n",
        "                                  \"hybrid_char_token_embed\": model_4_results,\n",
        "                                  \"tribrid_pos_char_token_embed\": model_5_results})\n",
        "all_model_results = all_model_results.transpose()\n",
        "all_model_results"
      ],
      "execution_count": null,
      "outputs": [
        {
          "output_type": "execute_result",
          "data": {
            "text/html": [
              "<div>\n",
              "<style scoped>\n",
              "    .dataframe tbody tr th:only-of-type {\n",
              "        vertical-align: middle;\n",
              "    }\n",
              "\n",
              "    .dataframe tbody tr th {\n",
              "        vertical-align: top;\n",
              "    }\n",
              "\n",
              "    .dataframe thead th {\n",
              "        text-align: right;\n",
              "    }\n",
              "</style>\n",
              "<table border=\"1\" class=\"dataframe\">\n",
              "  <thead>\n",
              "    <tr style=\"text-align: right;\">\n",
              "      <th></th>\n",
              "      <th>accuracy</th>\n",
              "      <th>precision</th>\n",
              "      <th>recall</th>\n",
              "      <th>f1</th>\n",
              "    </tr>\n",
              "  </thead>\n",
              "  <tbody>\n",
              "    <tr>\n",
              "      <th>baseline</th>\n",
              "      <td>72.183238</td>\n",
              "      <td>0.718647</td>\n",
              "      <td>0.721832</td>\n",
              "      <td>0.698925</td>\n",
              "    </tr>\n",
              "    <tr>\n",
              "      <th>custom_token_embed_conv1d</th>\n",
              "      <td>78.531709</td>\n",
              "      <td>0.782221</td>\n",
              "      <td>0.785317</td>\n",
              "      <td>0.782732</td>\n",
              "    </tr>\n",
              "    <tr>\n",
              "      <th>pretrained_token_embed</th>\n",
              "      <td>71.445121</td>\n",
              "      <td>0.714829</td>\n",
              "      <td>0.714451</td>\n",
              "      <td>0.711452</td>\n",
              "    </tr>\n",
              "    <tr>\n",
              "      <th>custom_char_embed_conv1d</th>\n",
              "      <td>67.605587</td>\n",
              "      <td>0.679302</td>\n",
              "      <td>0.676056</td>\n",
              "      <td>0.661548</td>\n",
              "    </tr>\n",
              "    <tr>\n",
              "      <th>hybrid_char_token_embed</th>\n",
              "      <td>55.795710</td>\n",
              "      <td>0.590481</td>\n",
              "      <td>0.557957</td>\n",
              "      <td>0.525519</td>\n",
              "    </tr>\n",
              "    <tr>\n",
              "      <th>tribrid_pos_char_token_embed</th>\n",
              "      <td>83.271548</td>\n",
              "      <td>0.831500</td>\n",
              "      <td>0.832715</td>\n",
              "      <td>0.831723</td>\n",
              "    </tr>\n",
              "  </tbody>\n",
              "</table>\n",
              "</div>"
            ],
            "text/plain": [
              "                               accuracy  precision    recall        f1\n",
              "baseline                      72.183238   0.718647  0.721832  0.698925\n",
              "custom_token_embed_conv1d     78.531709   0.782221  0.785317  0.782732\n",
              "pretrained_token_embed        71.445121   0.714829  0.714451  0.711452\n",
              "custom_char_embed_conv1d      67.605587   0.679302  0.676056  0.661548\n",
              "hybrid_char_token_embed       55.795710   0.590481  0.557957  0.525519\n",
              "tribrid_pos_char_token_embed  83.271548   0.831500  0.832715  0.831723"
            ]
          },
          "metadata": {
            "tags": []
          },
          "execution_count": 115
        }
      ]
    },
    {
      "cell_type": "code",
      "metadata": {
        "id": "Gv2QwULlMtbg"
      },
      "source": [
        "all_model_results[\"accuracy\"] = all_model_results[\"accuracy\"]/100"
      ],
      "execution_count": null,
      "outputs": []
    },
    {
      "cell_type": "code",
      "metadata": {
        "colab": {
          "base_uri": "https://localhost:8080/",
          "height": 588
        },
        "id": "jtHAtvfKM0qb",
        "outputId": "9c3ca77e-6c9a-4894-9ae5-def2f52f9924"
      },
      "source": [
        "all_model_results.plot(figsize = (10,7), kind = \"bar\").legend(bbox_to_anchor=(1.0,1.0))"
      ],
      "execution_count": null,
      "outputs": [
        {
          "output_type": "execute_result",
          "data": {
            "text/plain": [
              "<matplotlib.legend.Legend at 0x7ff3840b3990>"
            ]
          },
          "metadata": {
            "tags": []
          },
          "execution_count": 118
        },
        {
          "output_type": "display_data",
          "data": {
            "image/png": "[encoded data removed]",
            "text/plain": [
              "<Figure size 720x504 with 1 Axes>"
            ]
          },
          "metadata": {
            "tags": [],
            "needs_background": "light"
          }
        }
      ]
    },
    {
      "cell_type": "code",
      "metadata": {
        "colab": {
          "base_uri": "https://localhost:8080/",
          "height": 425
        },
        "id": "BOpBEuk2NCl1",
        "outputId": "15631ed9-6550-4486-82a6-0c5c732dfbe0"
      },
      "source": [
        "all_model_results.sort_values(\"f1\", ascending = 0)[\"f1\"].plot(kind = \"bar\")"
      ],
      "execution_count": null,
      "outputs": [
        {
          "output_type": "execute_result",
          "data": {
            "text/plain": [
              "<matplotlib.axes._subplots.AxesSubplot at 0x7ff387a3b8d0>"
            ]
          },
          "metadata": {
            "tags": []
          },
          "execution_count": 119
        },
        {
          "output_type": "display_data",
          "data": {
            "image/png": "[encoded data removed]",
            "text/plain": [
              "<Figure size 432x288 with 1 Axes>"
            ]
          },
          "metadata": {
            "tags": [],
            "needs_background": "light"
          }
        }
      ]
    },
    {
      "cell_type": "code",
      "metadata": {
        "colab": {
          "base_uri": "https://localhost:8080/"
        },
        "id": "BcyHM9CfNbtF",
        "outputId": "c2e8e7ea-953e-4fad-ee7e-694c1f44bc9f"
      },
      "source": [
        "model_5.save(\"skimlit_tribrid_model\") "
      ],
      "execution_count": null,
      "outputs": [
        {
          "output_type": "stream",
          "text": [
            "WARNING:absl:Found untraced functions such as lstm_cell_4_layer_call_fn, lstm_cell_4_layer_call_and_return_conditional_losses, lstm_cell_5_layer_call_fn, lstm_cell_5_layer_call_and_return_conditional_losses, lstm_cell_4_layer_call_fn while saving (showing 5 of 10). These functions will not be directly callable after loading.\n"
          ],
          "name": "stderr"
        },
        {
          "output_type": "stream",
          "text": [
            "INFO:tensorflow:Assets written to: skimlit_tribrid_model/assets\n"
          ],
          "name": "stdout"
        },
        {
          "output_type": "stream",
          "text": [
            "INFO:tensorflow:Assets written to: skimlit_tribrid_model/assets\n"
          ],
          "name": "stderr"
        }
      ]
    },
    {
      "cell_type": "code",
      "metadata": {
        "colab": {
          "base_uri": "https://localhost:8080/"
        },
        "id": "nN-1UP7XNiau",
        "outputId": "0e7d849b-335c-48b9-924a-cbfb2770e5e7"
      },
      "source": [
        "!wget https://storage.googleapis.com/ztm_tf_course/skimlit/skimlit_tribrid_model.zip\n",
        "!mkdir skimlit_gs_model\n",
        "!unzip skimlit_tribrid_model.zip -d skimlit_gs_model"
      ],
      "execution_count": null,
      "outputs": [
        {
          "output_type": "stream",
          "text": [
            "--2021-08-08 14:42:46--  https://storage.googleapis.com/ztm_tf_course/skimlit/skimlit_tribrid_model.zip\n",
            "Resolving storage.googleapis.com (storage.googleapis.com)... 142.250.157.128, 74.125.23.128, 74.125.203.128, ...\n",
            "Connecting to storage.googleapis.com (storage.googleapis.com)|142.250.157.128|:443... connected.\n",
            "HTTP request sent, awaiting response... 200 OK\n",
            "Length: 962957902 (918M) [application/zip]\n",
            "Saving to: ‘skimlit_tribrid_model.zip’\n",
            "\n",
            "skimlit_tribrid_mod 100%[===================>] 918.35M  72.6MB/s    in 14s     \n",
            "\n",
            "2021-08-08 14:43:01 (67.5 MB/s) - ‘skimlit_tribrid_model.zip’ saved [962957902/962957902]\n",
            "\n",
            "Archive:  skimlit_tribrid_model.zip\n",
            "   creating: skimlit_gs_model/skimlit_tribrid_model/\n",
            "   creating: skimlit_gs_model/skimlit_tribrid_model/assets/\n",
            "   creating: skimlit_gs_model/skimlit_tribrid_model/variables/\n",
            "  inflating: skimlit_gs_model/skimlit_tribrid_model/variables/variables.index  \n",
            "  inflating: skimlit_gs_model/skimlit_tribrid_model/variables/variables.data-00000-of-00001  \n",
            "  inflating: skimlit_gs_model/skimlit_tribrid_model/saved_model.pb  \n"
          ],
          "name": "stdout"
        }
      ]
    },
    {
      "cell_type": "code",
      "metadata": {
        "id": "C_jofapWN1Yq"
      },
      "source": [
        "loaded_model = tf.keras.models.load_model(\"skimlit_tribrid_model\")"
      ],
      "execution_count": null,
      "outputs": []
    },
    {
      "cell_type": "code",
      "metadata": {
        "colab": {
          "base_uri": "https://localhost:8080/"
        },
        "id": "RfIMo5-4OO96",
        "outputId": "b023d6ba-2196-45d8-98f2-80b61d1c2b89"
      },
      "source": [
        "test_token_char_pos_dataset"
      ],
      "execution_count": null,
      "outputs": [
        {
          "output_type": "execute_result",
          "data": {
            "text/plain": [
              "<PrefetchDataset shapes: (((None, 15), (None, 20), (None,), (None,)), (None, 5)), types: ((tf.float32, tf.float32, tf.string, tf.string), tf.float64)>"
            ]
          },
          "metadata": {
            "tags": []
          },
          "execution_count": 126
        }
      ]
    },
    {
      "cell_type": "code",
      "metadata": {
        "colab": {
          "base_uri": "https://localhost:8080/"
        },
        "id": "7t6ur8bVQxIk",
        "outputId": "722b3a9f-2b17-48fc-aa38-fc7ce63dc58f"
      },
      "source": [
        "test_pred_probs = model_5.predict(test_token_char_pos_dataset,\n",
        "                                       verbose=1)\n",
        "test_preds = tf.argmax(test_pred_probs, axis=1)"
      ],
      "execution_count": null,
      "outputs": [
        {
          "output_type": "stream",
          "text": [
            "942/942 [==============================] - 46s 49ms/step\n"
          ],
          "name": "stdout"
        }
      ]
    },
    {
      "cell_type": "code",
      "metadata": {
        "colab": {
          "base_uri": "https://localhost:8080/"
        },
        "id": "lRPXdAIeQ4vg",
        "outputId": "5195f421-4119-4e51-9e0d-b5615dc8ec05"
      },
      "source": [
        "loaded_model_test_results = calculate_results(y_true=test_labels_labelled,\n",
        "                                              y_pred=test_preds)\n",
        "loaded_model_test_results"
      ],
      "execution_count": null,
      "outputs": [
        {
          "output_type": "execute_result",
          "data": {
            "text/plain": [
              "{'accuracy': 82.84718765555003,\n",
              " 'f1': 0.8273977595111462,\n",
              " 'precision': 0.8270193133101837,\n",
              " 'recall': 0.8284718765555003}"
            ]
          },
          "metadata": {
            "tags": []
          },
          "execution_count": 129
        }
      ]
    },
    {
      "cell_type": "code",
      "metadata": {
        "id": "V80kzgAHRMZc"
      },
      "source": [
        ""
      ],
      "execution_count": null,
      "outputs": []
    }
  ]
}